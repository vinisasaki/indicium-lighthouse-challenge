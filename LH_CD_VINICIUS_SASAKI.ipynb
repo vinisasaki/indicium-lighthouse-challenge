{
  "nbformat": 4,
  "nbformat_minor": 0,
  "metadata": {
    "colab": {
      "provenance": []
    },
    "kernelspec": {
      "name": "python3",
      "display_name": "Python 3"
    },
    "language_info": {
      "name": "python"
    }
  },
  "cells": [
    {
      "cell_type": "markdown",
      "source": [
        "## Análise inicial"
      ],
      "metadata": {
        "id": "LCXPszf7zWDP"
      }
    },
    {
      "cell_type": "code",
      "execution_count": 602,
      "metadata": {
        "id": "g4kJGJcQrokG"
      },
      "outputs": [],
      "source": [
        "import pandas as pd\n",
        "import matplotlib.pyplot as plt\n",
        "import seaborn as sns"
      ]
    },
    {
      "cell_type": "code",
      "source": [
        "df = pd.read_csv(\"desafio_indicium_imdb.csv\")\n",
        "df.head()"
      ],
      "metadata": {
        "colab": {
          "base_uri": "https://localhost:8080/",
          "height": 694
        },
        "id": "HzMbP8UAzcWi",
        "outputId": "9380a13c-ceb0-400c-8ed8-acb5612694cf"
      },
      "execution_count": 603,
      "outputs": [
        {
          "output_type": "execute_result",
          "data": {
            "text/plain": [
              "   Unnamed: 0                                   Series_Title Released_Year  \\\n",
              "0           1                                  The Godfather          1972   \n",
              "1           2                                The Dark Knight          2008   \n",
              "2           3                         The Godfather: Part II          1974   \n",
              "3           4                                   12 Angry Men          1957   \n",
              "4           5  The Lord of the Rings: The Return of the King          2003   \n",
              "\n",
              "  Certificate  Runtime                     Genre  IMDB_Rating  \\\n",
              "0           A  175 min              Crime, Drama          9.2   \n",
              "1          UA  152 min      Action, Crime, Drama          9.0   \n",
              "2           A  202 min              Crime, Drama          9.0   \n",
              "3           U   96 min              Crime, Drama          9.0   \n",
              "4           U  201 min  Action, Adventure, Drama          8.9   \n",
              "\n",
              "                                            Overview  Meta_score  \\\n",
              "0  An organized crime dynasty's aging patriarch t...       100.0   \n",
              "1  When the menace known as the Joker wreaks havo...        84.0   \n",
              "2  The early life and career of Vito Corleone in ...        90.0   \n",
              "3  A jury holdout attempts to prevent a miscarria...        96.0   \n",
              "4  Gandalf and Aragorn lead the World of Men agai...        94.0   \n",
              "\n",
              "               Director           Star1            Star2          Star3  \\\n",
              "0  Francis Ford Coppola   Marlon Brando        Al Pacino     James Caan   \n",
              "1     Christopher Nolan  Christian Bale     Heath Ledger  Aaron Eckhart   \n",
              "2  Francis Ford Coppola       Al Pacino   Robert De Niro  Robert Duvall   \n",
              "3          Sidney Lumet     Henry Fonda      Lee J. Cobb  Martin Balsam   \n",
              "4         Peter Jackson     Elijah Wood  Viggo Mortensen   Ian McKellen   \n",
              "\n",
              "           Star4  No_of_Votes        Gross  \n",
              "0   Diane Keaton      1620367  134,966,411  \n",
              "1  Michael Caine      2303232  534,858,444  \n",
              "2   Diane Keaton      1129952   57,300,000  \n",
              "3   John Fiedler       689845    4,360,000  \n",
              "4  Orlando Bloom      1642758  377,845,905  "
            ],
            "text/html": [
              "\n",
              "  <div id=\"df-6fbb0cf7-b3bb-4a27-84e9-ec4fe68e13bc\" class=\"colab-df-container\">\n",
              "    <div>\n",
              "<style scoped>\n",
              "    .dataframe tbody tr th:only-of-type {\n",
              "        vertical-align: middle;\n",
              "    }\n",
              "\n",
              "    .dataframe tbody tr th {\n",
              "        vertical-align: top;\n",
              "    }\n",
              "\n",
              "    .dataframe thead th {\n",
              "        text-align: right;\n",
              "    }\n",
              "</style>\n",
              "<table border=\"1\" class=\"dataframe\">\n",
              "  <thead>\n",
              "    <tr style=\"text-align: right;\">\n",
              "      <th></th>\n",
              "      <th>Unnamed: 0</th>\n",
              "      <th>Series_Title</th>\n",
              "      <th>Released_Year</th>\n",
              "      <th>Certificate</th>\n",
              "      <th>Runtime</th>\n",
              "      <th>Genre</th>\n",
              "      <th>IMDB_Rating</th>\n",
              "      <th>Overview</th>\n",
              "      <th>Meta_score</th>\n",
              "      <th>Director</th>\n",
              "      <th>Star1</th>\n",
              "      <th>Star2</th>\n",
              "      <th>Star3</th>\n",
              "      <th>Star4</th>\n",
              "      <th>No_of_Votes</th>\n",
              "      <th>Gross</th>\n",
              "    </tr>\n",
              "  </thead>\n",
              "  <tbody>\n",
              "    <tr>\n",
              "      <th>0</th>\n",
              "      <td>1</td>\n",
              "      <td>The Godfather</td>\n",
              "      <td>1972</td>\n",
              "      <td>A</td>\n",
              "      <td>175 min</td>\n",
              "      <td>Crime, Drama</td>\n",
              "      <td>9.2</td>\n",
              "      <td>An organized crime dynasty's aging patriarch t...</td>\n",
              "      <td>100.0</td>\n",
              "      <td>Francis Ford Coppola</td>\n",
              "      <td>Marlon Brando</td>\n",
              "      <td>Al Pacino</td>\n",
              "      <td>James Caan</td>\n",
              "      <td>Diane Keaton</td>\n",
              "      <td>1620367</td>\n",
              "      <td>134,966,411</td>\n",
              "    </tr>\n",
              "    <tr>\n",
              "      <th>1</th>\n",
              "      <td>2</td>\n",
              "      <td>The Dark Knight</td>\n",
              "      <td>2008</td>\n",
              "      <td>UA</td>\n",
              "      <td>152 min</td>\n",
              "      <td>Action, Crime, Drama</td>\n",
              "      <td>9.0</td>\n",
              "      <td>When the menace known as the Joker wreaks havo...</td>\n",
              "      <td>84.0</td>\n",
              "      <td>Christopher Nolan</td>\n",
              "      <td>Christian Bale</td>\n",
              "      <td>Heath Ledger</td>\n",
              "      <td>Aaron Eckhart</td>\n",
              "      <td>Michael Caine</td>\n",
              "      <td>2303232</td>\n",
              "      <td>534,858,444</td>\n",
              "    </tr>\n",
              "    <tr>\n",
              "      <th>2</th>\n",
              "      <td>3</td>\n",
              "      <td>The Godfather: Part II</td>\n",
              "      <td>1974</td>\n",
              "      <td>A</td>\n",
              "      <td>202 min</td>\n",
              "      <td>Crime, Drama</td>\n",
              "      <td>9.0</td>\n",
              "      <td>The early life and career of Vito Corleone in ...</td>\n",
              "      <td>90.0</td>\n",
              "      <td>Francis Ford Coppola</td>\n",
              "      <td>Al Pacino</td>\n",
              "      <td>Robert De Niro</td>\n",
              "      <td>Robert Duvall</td>\n",
              "      <td>Diane Keaton</td>\n",
              "      <td>1129952</td>\n",
              "      <td>57,300,000</td>\n",
              "    </tr>\n",
              "    <tr>\n",
              "      <th>3</th>\n",
              "      <td>4</td>\n",
              "      <td>12 Angry Men</td>\n",
              "      <td>1957</td>\n",
              "      <td>U</td>\n",
              "      <td>96 min</td>\n",
              "      <td>Crime, Drama</td>\n",
              "      <td>9.0</td>\n",
              "      <td>A jury holdout attempts to prevent a miscarria...</td>\n",
              "      <td>96.0</td>\n",
              "      <td>Sidney Lumet</td>\n",
              "      <td>Henry Fonda</td>\n",
              "      <td>Lee J. Cobb</td>\n",
              "      <td>Martin Balsam</td>\n",
              "      <td>John Fiedler</td>\n",
              "      <td>689845</td>\n",
              "      <td>4,360,000</td>\n",
              "    </tr>\n",
              "    <tr>\n",
              "      <th>4</th>\n",
              "      <td>5</td>\n",
              "      <td>The Lord of the Rings: The Return of the King</td>\n",
              "      <td>2003</td>\n",
              "      <td>U</td>\n",
              "      <td>201 min</td>\n",
              "      <td>Action, Adventure, Drama</td>\n",
              "      <td>8.9</td>\n",
              "      <td>Gandalf and Aragorn lead the World of Men agai...</td>\n",
              "      <td>94.0</td>\n",
              "      <td>Peter Jackson</td>\n",
              "      <td>Elijah Wood</td>\n",
              "      <td>Viggo Mortensen</td>\n",
              "      <td>Ian McKellen</td>\n",
              "      <td>Orlando Bloom</td>\n",
              "      <td>1642758</td>\n",
              "      <td>377,845,905</td>\n",
              "    </tr>\n",
              "  </tbody>\n",
              "</table>\n",
              "</div>\n",
              "    <div class=\"colab-df-buttons\">\n",
              "\n",
              "  <div class=\"colab-df-container\">\n",
              "    <button class=\"colab-df-convert\" onclick=\"convertToInteractive('df-6fbb0cf7-b3bb-4a27-84e9-ec4fe68e13bc')\"\n",
              "            title=\"Convert this dataframe to an interactive table.\"\n",
              "            style=\"display:none;\">\n",
              "\n",
              "  <svg xmlns=\"http://www.w3.org/2000/svg\" height=\"24px\" viewBox=\"0 -960 960 960\">\n",
              "    <path d=\"M120-120v-720h720v720H120Zm60-500h600v-160H180v160Zm220 220h160v-160H400v160Zm0 220h160v-160H400v160ZM180-400h160v-160H180v160Zm440 0h160v-160H620v160ZM180-180h160v-160H180v160Zm440 0h160v-160H620v160Z\"/>\n",
              "  </svg>\n",
              "    </button>\n",
              "\n",
              "  <style>\n",
              "    .colab-df-container {\n",
              "      display:flex;\n",
              "      gap: 12px;\n",
              "    }\n",
              "\n",
              "    .colab-df-convert {\n",
              "      background-color: #E8F0FE;\n",
              "      border: none;\n",
              "      border-radius: 50%;\n",
              "      cursor: pointer;\n",
              "      display: none;\n",
              "      fill: #1967D2;\n",
              "      height: 32px;\n",
              "      padding: 0 0 0 0;\n",
              "      width: 32px;\n",
              "    }\n",
              "\n",
              "    .colab-df-convert:hover {\n",
              "      background-color: #E2EBFA;\n",
              "      box-shadow: 0px 1px 2px rgba(60, 64, 67, 0.3), 0px 1px 3px 1px rgba(60, 64, 67, 0.15);\n",
              "      fill: #174EA6;\n",
              "    }\n",
              "\n",
              "    .colab-df-buttons div {\n",
              "      margin-bottom: 4px;\n",
              "    }\n",
              "\n",
              "    [theme=dark] .colab-df-convert {\n",
              "      background-color: #3B4455;\n",
              "      fill: #D2E3FC;\n",
              "    }\n",
              "\n",
              "    [theme=dark] .colab-df-convert:hover {\n",
              "      background-color: #434B5C;\n",
              "      box-shadow: 0px 1px 3px 1px rgba(0, 0, 0, 0.15);\n",
              "      filter: drop-shadow(0px 1px 2px rgba(0, 0, 0, 0.3));\n",
              "      fill: #FFFFFF;\n",
              "    }\n",
              "  </style>\n",
              "\n",
              "    <script>\n",
              "      const buttonEl =\n",
              "        document.querySelector('#df-6fbb0cf7-b3bb-4a27-84e9-ec4fe68e13bc button.colab-df-convert');\n",
              "      buttonEl.style.display =\n",
              "        google.colab.kernel.accessAllowed ? 'block' : 'none';\n",
              "\n",
              "      async function convertToInteractive(key) {\n",
              "        const element = document.querySelector('#df-6fbb0cf7-b3bb-4a27-84e9-ec4fe68e13bc');\n",
              "        const dataTable =\n",
              "          await google.colab.kernel.invokeFunction('convertToInteractive',\n",
              "                                                    [key], {});\n",
              "        if (!dataTable) return;\n",
              "\n",
              "        const docLinkHtml = 'Like what you see? Visit the ' +\n",
              "          '<a target=\"_blank\" href=https://colab.research.google.com/notebooks/data_table.ipynb>data table notebook</a>'\n",
              "          + ' to learn more about interactive tables.';\n",
              "        element.innerHTML = '';\n",
              "        dataTable['output_type'] = 'display_data';\n",
              "        await google.colab.output.renderOutput(dataTable, element);\n",
              "        const docLink = document.createElement('div');\n",
              "        docLink.innerHTML = docLinkHtml;\n",
              "        element.appendChild(docLink);\n",
              "      }\n",
              "    </script>\n",
              "  </div>\n",
              "\n",
              "\n",
              "    <div id=\"df-bd2b35b9-2a8e-491e-95c5-716a5b5b5485\">\n",
              "      <button class=\"colab-df-quickchart\" onclick=\"quickchart('df-bd2b35b9-2a8e-491e-95c5-716a5b5b5485')\"\n",
              "                title=\"Suggest charts\"\n",
              "                style=\"display:none;\">\n",
              "\n",
              "<svg xmlns=\"http://www.w3.org/2000/svg\" height=\"24px\"viewBox=\"0 0 24 24\"\n",
              "     width=\"24px\">\n",
              "    <g>\n",
              "        <path d=\"M19 3H5c-1.1 0-2 .9-2 2v14c0 1.1.9 2 2 2h14c1.1 0 2-.9 2-2V5c0-1.1-.9-2-2-2zM9 17H7v-7h2v7zm4 0h-2V7h2v10zm4 0h-2v-4h2v4z\"/>\n",
              "    </g>\n",
              "</svg>\n",
              "      </button>\n",
              "\n",
              "<style>\n",
              "  .colab-df-quickchart {\n",
              "      --bg-color: #E8F0FE;\n",
              "      --fill-color: #1967D2;\n",
              "      --hover-bg-color: #E2EBFA;\n",
              "      --hover-fill-color: #174EA6;\n",
              "      --disabled-fill-color: #AAA;\n",
              "      --disabled-bg-color: #DDD;\n",
              "  }\n",
              "\n",
              "  [theme=dark] .colab-df-quickchart {\n",
              "      --bg-color: #3B4455;\n",
              "      --fill-color: #D2E3FC;\n",
              "      --hover-bg-color: #434B5C;\n",
              "      --hover-fill-color: #FFFFFF;\n",
              "      --disabled-bg-color: #3B4455;\n",
              "      --disabled-fill-color: #666;\n",
              "  }\n",
              "\n",
              "  .colab-df-quickchart {\n",
              "    background-color: var(--bg-color);\n",
              "    border: none;\n",
              "    border-radius: 50%;\n",
              "    cursor: pointer;\n",
              "    display: none;\n",
              "    fill: var(--fill-color);\n",
              "    height: 32px;\n",
              "    padding: 0;\n",
              "    width: 32px;\n",
              "  }\n",
              "\n",
              "  .colab-df-quickchart:hover {\n",
              "    background-color: var(--hover-bg-color);\n",
              "    box-shadow: 0 1px 2px rgba(60, 64, 67, 0.3), 0 1px 3px 1px rgba(60, 64, 67, 0.15);\n",
              "    fill: var(--button-hover-fill-color);\n",
              "  }\n",
              "\n",
              "  .colab-df-quickchart-complete:disabled,\n",
              "  .colab-df-quickchart-complete:disabled:hover {\n",
              "    background-color: var(--disabled-bg-color);\n",
              "    fill: var(--disabled-fill-color);\n",
              "    box-shadow: none;\n",
              "  }\n",
              "\n",
              "  .colab-df-spinner {\n",
              "    border: 2px solid var(--fill-color);\n",
              "    border-color: transparent;\n",
              "    border-bottom-color: var(--fill-color);\n",
              "    animation:\n",
              "      spin 1s steps(1) infinite;\n",
              "  }\n",
              "\n",
              "  @keyframes spin {\n",
              "    0% {\n",
              "      border-color: transparent;\n",
              "      border-bottom-color: var(--fill-color);\n",
              "      border-left-color: var(--fill-color);\n",
              "    }\n",
              "    20% {\n",
              "      border-color: transparent;\n",
              "      border-left-color: var(--fill-color);\n",
              "      border-top-color: var(--fill-color);\n",
              "    }\n",
              "    30% {\n",
              "      border-color: transparent;\n",
              "      border-left-color: var(--fill-color);\n",
              "      border-top-color: var(--fill-color);\n",
              "      border-right-color: var(--fill-color);\n",
              "    }\n",
              "    40% {\n",
              "      border-color: transparent;\n",
              "      border-right-color: var(--fill-color);\n",
              "      border-top-color: var(--fill-color);\n",
              "    }\n",
              "    60% {\n",
              "      border-color: transparent;\n",
              "      border-right-color: var(--fill-color);\n",
              "    }\n",
              "    80% {\n",
              "      border-color: transparent;\n",
              "      border-right-color: var(--fill-color);\n",
              "      border-bottom-color: var(--fill-color);\n",
              "    }\n",
              "    90% {\n",
              "      border-color: transparent;\n",
              "      border-bottom-color: var(--fill-color);\n",
              "    }\n",
              "  }\n",
              "</style>\n",
              "\n",
              "      <script>\n",
              "        async function quickchart(key) {\n",
              "          const quickchartButtonEl =\n",
              "            document.querySelector('#' + key + ' button');\n",
              "          quickchartButtonEl.disabled = true;  // To prevent multiple clicks.\n",
              "          quickchartButtonEl.classList.add('colab-df-spinner');\n",
              "          try {\n",
              "            const charts = await google.colab.kernel.invokeFunction(\n",
              "                'suggestCharts', [key], {});\n",
              "          } catch (error) {\n",
              "            console.error('Error during call to suggestCharts:', error);\n",
              "          }\n",
              "          quickchartButtonEl.classList.remove('colab-df-spinner');\n",
              "          quickchartButtonEl.classList.add('colab-df-quickchart-complete');\n",
              "        }\n",
              "        (() => {\n",
              "          let quickchartButtonEl =\n",
              "            document.querySelector('#df-bd2b35b9-2a8e-491e-95c5-716a5b5b5485 button');\n",
              "          quickchartButtonEl.style.display =\n",
              "            google.colab.kernel.accessAllowed ? 'block' : 'none';\n",
              "        })();\n",
              "      </script>\n",
              "    </div>\n",
              "\n",
              "    </div>\n",
              "  </div>\n"
            ],
            "application/vnd.google.colaboratory.intrinsic+json": {
              "type": "dataframe",
              "variable_name": "df",
              "summary": "{\n  \"name\": \"df\",\n  \"rows\": 999,\n  \"fields\": [\n    {\n      \"column\": \"Unnamed: 0\",\n      \"properties\": {\n        \"dtype\": \"number\",\n        \"std\": 288,\n        \"min\": 1,\n        \"max\": 999,\n        \"num_unique_values\": 999,\n        \"samples\": [\n          454,\n          794,\n          210\n        ],\n        \"semantic_type\": \"\",\n        \"description\": \"\"\n      }\n    },\n    {\n      \"column\": \"Series_Title\",\n      \"properties\": {\n        \"dtype\": \"string\",\n        \"num_unique_values\": 998,\n        \"samples\": [\n          \"Arsenic and Old Lace\",\n          \"Hedwig and the Angry Inch\",\n          \"\\u00d4kami kodomo no Ame to Yuki\"\n        ],\n        \"semantic_type\": \"\",\n        \"description\": \"\"\n      }\n    },\n    {\n      \"column\": \"Released_Year\",\n      \"properties\": {\n        \"dtype\": \"category\",\n        \"num_unique_values\": 100,\n        \"samples\": [\n          \"1934\",\n          \"1992\",\n          \"1989\"\n        ],\n        \"semantic_type\": \"\",\n        \"description\": \"\"\n      }\n    },\n    {\n      \"column\": \"Certificate\",\n      \"properties\": {\n        \"dtype\": \"category\",\n        \"num_unique_values\": 16,\n        \"samples\": [\n          \"A\",\n          \"UA\",\n          \"PG\"\n        ],\n        \"semantic_type\": \"\",\n        \"description\": \"\"\n      }\n    },\n    {\n      \"column\": \"Runtime\",\n      \"properties\": {\n        \"dtype\": \"category\",\n        \"num_unique_values\": 140,\n        \"samples\": [\n          \"205 min\",\n          \"129 min\",\n          \"112 min\"\n        ],\n        \"semantic_type\": \"\",\n        \"description\": \"\"\n      }\n    },\n    {\n      \"column\": \"Genre\",\n      \"properties\": {\n        \"dtype\": \"category\",\n        \"num_unique_values\": 202,\n        \"samples\": [\n          \"Comedy, Drama, Fantasy\",\n          \"Crime, Drama, Fantasy\",\n          \"Drama, Romance, War\"\n        ],\n        \"semantic_type\": \"\",\n        \"description\": \"\"\n      }\n    },\n    {\n      \"column\": \"IMDB_Rating\",\n      \"properties\": {\n        \"dtype\": \"number\",\n        \"std\": 0.2722895085128789,\n        \"min\": 7.6,\n        \"max\": 9.2,\n        \"num_unique_values\": 16,\n        \"samples\": [\n          9.2,\n          9.0,\n          8.6\n        ],\n        \"semantic_type\": \"\",\n        \"description\": \"\"\n      }\n    },\n    {\n      \"column\": \"Overview\",\n      \"properties\": {\n        \"dtype\": \"string\",\n        \"num_unique_values\": 999,\n        \"samples\": [\n          \"Three World War II veterans return home to small-town America to discover that they and their families have been irreparably changed.\",\n          \"A gender-queer punk-rock singer from East Berlin tours the U.S. with her band as she tells her life story and follows the former lover/band-mate who stole her songs.\",\n          \"With his wife's disappearance having become the focus of an intense media circus, a man sees the spotlight turned on him when it's suspected that he may not be innocent.\"\n        ],\n        \"semantic_type\": \"\",\n        \"description\": \"\"\n      }\n    },\n    {\n      \"column\": \"Meta_score\",\n      \"properties\": {\n        \"dtype\": \"number\",\n        \"std\": 12.383257326288954,\n        \"min\": 28.0,\n        \"max\": 100.0,\n        \"num_unique_values\": 63,\n        \"samples\": [\n          30.0,\n          52.0,\n          100.0\n        ],\n        \"semantic_type\": \"\",\n        \"description\": \"\"\n      }\n    },\n    {\n      \"column\": \"Director\",\n      \"properties\": {\n        \"dtype\": \"string\",\n        \"num_unique_values\": 548,\n        \"samples\": [\n          \"Satoshi Kon\",\n          \"David Lean\",\n          \"Yilmaz Erdogan\"\n        ],\n        \"semantic_type\": \"\",\n        \"description\": \"\"\n      }\n    },\n    {\n      \"column\": \"Star1\",\n      \"properties\": {\n        \"dtype\": \"string\",\n        \"num_unique_values\": 659,\n        \"samples\": [\n          \"Peter Dinklage\",\n          \"Jay Baruchel\",\n          \"Steve McQueen\"\n        ],\n        \"semantic_type\": \"\",\n        \"description\": \"\"\n      }\n    },\n    {\n      \"column\": \"Star2\",\n      \"properties\": {\n        \"dtype\": \"string\",\n        \"num_unique_values\": 840,\n        \"samples\": [\n          \"Jacques Villeret\",\n          \"Meg Ryan\",\n          \"J.K. Simmons\"\n        ],\n        \"semantic_type\": \"\",\n        \"description\": \"\"\n      }\n    },\n    {\n      \"column\": \"Star3\",\n      \"properties\": {\n        \"dtype\": \"string\",\n        \"num_unique_values\": 890,\n        \"samples\": [\n          \"Yacef Saadi\",\n          \"John Wray\",\n          \"Chazz Palminteri\"\n        ],\n        \"semantic_type\": \"\",\n        \"description\": \"\"\n      }\n    },\n    {\n      \"column\": \"Star4\",\n      \"properties\": {\n        \"dtype\": \"string\",\n        \"num_unique_values\": 938,\n        \"samples\": [\n          \"Veronica Cartwright\",\n          \"Domhnall Gleeson\",\n          \"Jennifer Ulrich\"\n        ],\n        \"semantic_type\": \"\",\n        \"description\": \"\"\n      }\n    },\n    {\n      \"column\": \"No_of_Votes\",\n      \"properties\": {\n        \"dtype\": \"number\",\n        \"std\": 320912,\n        \"min\": 25088,\n        \"max\": 2303232,\n        \"num_unique_values\": 998,\n        \"samples\": [\n          57259,\n          31957,\n          859695\n        ],\n        \"semantic_type\": \"\",\n        \"description\": \"\"\n      }\n    },\n    {\n      \"column\": \"Gross\",\n      \"properties\": {\n        \"dtype\": \"string\",\n        \"num_unique_values\": 822,\n        \"samples\": [\n          \"136,025,503\",\n          \"356,461,711\",\n          \"275,902\"\n        ],\n        \"semantic_type\": \"\",\n        \"description\": \"\"\n      }\n    }\n  ]\n}"
            }
          },
          "metadata": {},
          "execution_count": 603
        }
      ]
    },
    {
      "cell_type": "markdown",
      "source": [
        "É possível observar que existem algumas colunas que poderiam ser valores numéricos, mas que estão como strings no dataset, como a coluna `Runtime` que poderia ter apenas o valor de tempo."
      ],
      "metadata": {
        "id": "5F0HcXAMzcGI"
      }
    },
    {
      "cell_type": "code",
      "source": [
        "df.info()"
      ],
      "metadata": {
        "colab": {
          "base_uri": "https://localhost:8080/"
        },
        "id": "H8TlaLS73_jN",
        "outputId": "50d44f87-17c4-4822-a460-4fc2298d7fb9"
      },
      "execution_count": 604,
      "outputs": [
        {
          "output_type": "stream",
          "name": "stdout",
          "text": [
            "<class 'pandas.core.frame.DataFrame'>\n",
            "RangeIndex: 999 entries, 0 to 998\n",
            "Data columns (total 16 columns):\n",
            " #   Column         Non-Null Count  Dtype  \n",
            "---  ------         --------------  -----  \n",
            " 0   Unnamed: 0     999 non-null    int64  \n",
            " 1   Series_Title   999 non-null    object \n",
            " 2   Released_Year  999 non-null    object \n",
            " 3   Certificate    898 non-null    object \n",
            " 4   Runtime        999 non-null    object \n",
            " 5   Genre          999 non-null    object \n",
            " 6   IMDB_Rating    999 non-null    float64\n",
            " 7   Overview       999 non-null    object \n",
            " 8   Meta_score     842 non-null    float64\n",
            " 9   Director       999 non-null    object \n",
            " 10  Star1          999 non-null    object \n",
            " 11  Star2          999 non-null    object \n",
            " 12  Star3          999 non-null    object \n",
            " 13  Star4          999 non-null    object \n",
            " 14  No_of_Votes    999 non-null    int64  \n",
            " 15  Gross          830 non-null    object \n",
            "dtypes: float64(2), int64(2), object(12)\n",
            "memory usage: 125.0+ KB\n"
          ]
        }
      ]
    },
    {
      "cell_type": "markdown",
      "source": [
        "Pode-se confirmar com o `df.info()` que as colunas `Released_Year`, `Runtime`, e `Gross` estão como object, mas se encaixariam melhor se fossem variáveis numéricas. Também é possível visualizar que o dataset possui 999 linhas e 16 colunas, mas que algumas colunas existem valores faltando."
      ],
      "metadata": {
        "id": "11inNtz-4CmK"
      }
    },
    {
      "cell_type": "code",
      "source": [
        "df.isnull().sum()"
      ],
      "metadata": {
        "colab": {
          "base_uri": "https://localhost:8080/",
          "height": 585
        },
        "id": "-gjAy0CX5Oz9",
        "outputId": "3c55ea1b-8f5c-4c96-e010-515fadb59a80"
      },
      "execution_count": 605,
      "outputs": [
        {
          "output_type": "execute_result",
          "data": {
            "text/plain": [
              "Unnamed: 0         0\n",
              "Series_Title       0\n",
              "Released_Year      0\n",
              "Certificate      101\n",
              "Runtime            0\n",
              "Genre              0\n",
              "IMDB_Rating        0\n",
              "Overview           0\n",
              "Meta_score       157\n",
              "Director           0\n",
              "Star1              0\n",
              "Star2              0\n",
              "Star3              0\n",
              "Star4              0\n",
              "No_of_Votes        0\n",
              "Gross            169\n",
              "dtype: int64"
            ],
            "text/html": [
              "<div>\n",
              "<style scoped>\n",
              "    .dataframe tbody tr th:only-of-type {\n",
              "        vertical-align: middle;\n",
              "    }\n",
              "\n",
              "    .dataframe tbody tr th {\n",
              "        vertical-align: top;\n",
              "    }\n",
              "\n",
              "    .dataframe thead th {\n",
              "        text-align: right;\n",
              "    }\n",
              "</style>\n",
              "<table border=\"1\" class=\"dataframe\">\n",
              "  <thead>\n",
              "    <tr style=\"text-align: right;\">\n",
              "      <th></th>\n",
              "      <th>0</th>\n",
              "    </tr>\n",
              "  </thead>\n",
              "  <tbody>\n",
              "    <tr>\n",
              "      <th>Unnamed: 0</th>\n",
              "      <td>0</td>\n",
              "    </tr>\n",
              "    <tr>\n",
              "      <th>Series_Title</th>\n",
              "      <td>0</td>\n",
              "    </tr>\n",
              "    <tr>\n",
              "      <th>Released_Year</th>\n",
              "      <td>0</td>\n",
              "    </tr>\n",
              "    <tr>\n",
              "      <th>Certificate</th>\n",
              "      <td>101</td>\n",
              "    </tr>\n",
              "    <tr>\n",
              "      <th>Runtime</th>\n",
              "      <td>0</td>\n",
              "    </tr>\n",
              "    <tr>\n",
              "      <th>Genre</th>\n",
              "      <td>0</td>\n",
              "    </tr>\n",
              "    <tr>\n",
              "      <th>IMDB_Rating</th>\n",
              "      <td>0</td>\n",
              "    </tr>\n",
              "    <tr>\n",
              "      <th>Overview</th>\n",
              "      <td>0</td>\n",
              "    </tr>\n",
              "    <tr>\n",
              "      <th>Meta_score</th>\n",
              "      <td>157</td>\n",
              "    </tr>\n",
              "    <tr>\n",
              "      <th>Director</th>\n",
              "      <td>0</td>\n",
              "    </tr>\n",
              "    <tr>\n",
              "      <th>Star1</th>\n",
              "      <td>0</td>\n",
              "    </tr>\n",
              "    <tr>\n",
              "      <th>Star2</th>\n",
              "      <td>0</td>\n",
              "    </tr>\n",
              "    <tr>\n",
              "      <th>Star3</th>\n",
              "      <td>0</td>\n",
              "    </tr>\n",
              "    <tr>\n",
              "      <th>Star4</th>\n",
              "      <td>0</td>\n",
              "    </tr>\n",
              "    <tr>\n",
              "      <th>No_of_Votes</th>\n",
              "      <td>0</td>\n",
              "    </tr>\n",
              "    <tr>\n",
              "      <th>Gross</th>\n",
              "      <td>169</td>\n",
              "    </tr>\n",
              "  </tbody>\n",
              "</table>\n",
              "</div><br><label><b>dtype:</b> int64</label>"
            ]
          },
          "metadata": {},
          "execution_count": 605
        }
      ]
    },
    {
      "cell_type": "markdown",
      "source": [
        "Aqui se confirma o que foi dito sobre os valores que estão faltando ou são nulos."
      ],
      "metadata": {
        "id": "xvJYhxcf5Uh5"
      }
    },
    {
      "cell_type": "code",
      "source": [
        "df.drop_duplicates(inplace=True)"
      ],
      "metadata": {
        "id": "swshTjVq8V5L"
      },
      "execution_count": 606,
      "outputs": []
    },
    {
      "cell_type": "markdown",
      "source": [
        "Removendo também possíveis linhas duplicadas do dataset"
      ],
      "metadata": {
        "id": "Rmb7GSad9keF"
      }
    },
    {
      "cell_type": "markdown",
      "source": [
        "## Pré-processamento dos dados"
      ],
      "metadata": {
        "id": "gA5JOkFSzFck"
      }
    },
    {
      "cell_type": "markdown",
      "source": [
        "Essa etapa será para corrigir os pontos encontrados acima."
      ],
      "metadata": {
        "id": "fZjamwTQ9o_f"
      }
    },
    {
      "cell_type": "markdown",
      "source": [
        "Primeiramente tentar converter os valores de object para numeric."
      ],
      "metadata": {
        "id": "iTGGaStpJ70H"
      }
    },
    {
      "cell_type": "code",
      "source": [
        "df['Runtime'] = df['Runtime'].str.replace('min', '') # Nessa coluna foi necessário tirar o texto 'min' que acompanha o valor de tempo\n",
        "df['Runtime'] = pd.to_numeric(df['Runtime'])"
      ],
      "metadata": {
        "id": "PSE2RL5l97Xv"
      },
      "execution_count": 607,
      "outputs": []
    },
    {
      "cell_type": "code",
      "source": [
        "try:\n",
        "  df['Released_Year'] = pd.to_numeric(df['Released_Year'])\n",
        "except ValueError as vError:\n",
        "  print(vError)"
      ],
      "metadata": {
        "colab": {
          "base_uri": "https://localhost:8080/"
        },
        "id": "U-U7EckuBrzK",
        "outputId": "7078d7b6-3ed6-482b-bd88-8a20a765605b"
      },
      "execution_count": 608,
      "outputs": [
        {
          "output_type": "stream",
          "name": "stdout",
          "text": [
            "Unable to parse string \"PG\" at position 965\n"
          ]
        }
      ]
    },
    {
      "cell_type": "markdown",
      "source": [
        "Foi acusado um error de que existia uma célula na posição 965 que estava com um valor 'PG' ao invés de um número e por isso não foi possível converter a coluna toda para numérico."
      ],
      "metadata": {
        "id": "Vo5g-fBfKDBk"
      }
    },
    {
      "cell_type": "code",
      "source": [
        "df[df['Released_Year'] == 'PG']"
      ],
      "metadata": {
        "colab": {
          "base_uri": "https://localhost:8080/",
          "height": 0
        },
        "id": "8wmYEEIVIKts",
        "outputId": "7a399668-798d-4bf7-c1cf-c03f1d76d67e"
      },
      "execution_count": 609,
      "outputs": [
        {
          "output_type": "execute_result",
          "data": {
            "text/plain": [
              "     Unnamed: 0 Series_Title Released_Year Certificate  Runtime  \\\n",
              "965         966    Apollo 13            PG           U      140   \n",
              "\n",
              "                         Genre  IMDB_Rating  \\\n",
              "965  Adventure, Drama, History          7.6   \n",
              "\n",
              "                                              Overview  Meta_score  \\\n",
              "965  NASA must devise a strategy to return Apollo 1...        77.0   \n",
              "\n",
              "       Director      Star1        Star2        Star3        Star4  \\\n",
              "965  Ron Howard  Tom Hanks  Bill Paxton  Kevin Bacon  Gary Sinise   \n",
              "\n",
              "     No_of_Votes        Gross  \n",
              "965       269197  173,837,933  "
            ],
            "text/html": [
              "\n",
              "  <div id=\"df-4fb5f225-ddaf-4dda-9c1e-8266f295f362\" class=\"colab-df-container\">\n",
              "    <div>\n",
              "<style scoped>\n",
              "    .dataframe tbody tr th:only-of-type {\n",
              "        vertical-align: middle;\n",
              "    }\n",
              "\n",
              "    .dataframe tbody tr th {\n",
              "        vertical-align: top;\n",
              "    }\n",
              "\n",
              "    .dataframe thead th {\n",
              "        text-align: right;\n",
              "    }\n",
              "</style>\n",
              "<table border=\"1\" class=\"dataframe\">\n",
              "  <thead>\n",
              "    <tr style=\"text-align: right;\">\n",
              "      <th></th>\n",
              "      <th>Unnamed: 0</th>\n",
              "      <th>Series_Title</th>\n",
              "      <th>Released_Year</th>\n",
              "      <th>Certificate</th>\n",
              "      <th>Runtime</th>\n",
              "      <th>Genre</th>\n",
              "      <th>IMDB_Rating</th>\n",
              "      <th>Overview</th>\n",
              "      <th>Meta_score</th>\n",
              "      <th>Director</th>\n",
              "      <th>Star1</th>\n",
              "      <th>Star2</th>\n",
              "      <th>Star3</th>\n",
              "      <th>Star4</th>\n",
              "      <th>No_of_Votes</th>\n",
              "      <th>Gross</th>\n",
              "    </tr>\n",
              "  </thead>\n",
              "  <tbody>\n",
              "    <tr>\n",
              "      <th>965</th>\n",
              "      <td>966</td>\n",
              "      <td>Apollo 13</td>\n",
              "      <td>PG</td>\n",
              "      <td>U</td>\n",
              "      <td>140</td>\n",
              "      <td>Adventure, Drama, History</td>\n",
              "      <td>7.6</td>\n",
              "      <td>NASA must devise a strategy to return Apollo 1...</td>\n",
              "      <td>77.0</td>\n",
              "      <td>Ron Howard</td>\n",
              "      <td>Tom Hanks</td>\n",
              "      <td>Bill Paxton</td>\n",
              "      <td>Kevin Bacon</td>\n",
              "      <td>Gary Sinise</td>\n",
              "      <td>269197</td>\n",
              "      <td>173,837,933</td>\n",
              "    </tr>\n",
              "  </tbody>\n",
              "</table>\n",
              "</div>\n",
              "    <div class=\"colab-df-buttons\">\n",
              "\n",
              "  <div class=\"colab-df-container\">\n",
              "    <button class=\"colab-df-convert\" onclick=\"convertToInteractive('df-4fb5f225-ddaf-4dda-9c1e-8266f295f362')\"\n",
              "            title=\"Convert this dataframe to an interactive table.\"\n",
              "            style=\"display:none;\">\n",
              "\n",
              "  <svg xmlns=\"http://www.w3.org/2000/svg\" height=\"24px\" viewBox=\"0 -960 960 960\">\n",
              "    <path d=\"M120-120v-720h720v720H120Zm60-500h600v-160H180v160Zm220 220h160v-160H400v160Zm0 220h160v-160H400v160ZM180-400h160v-160H180v160Zm440 0h160v-160H620v160ZM180-180h160v-160H180v160Zm440 0h160v-160H620v160Z\"/>\n",
              "  </svg>\n",
              "    </button>\n",
              "\n",
              "  <style>\n",
              "    .colab-df-container {\n",
              "      display:flex;\n",
              "      gap: 12px;\n",
              "    }\n",
              "\n",
              "    .colab-df-convert {\n",
              "      background-color: #E8F0FE;\n",
              "      border: none;\n",
              "      border-radius: 50%;\n",
              "      cursor: pointer;\n",
              "      display: none;\n",
              "      fill: #1967D2;\n",
              "      height: 32px;\n",
              "      padding: 0 0 0 0;\n",
              "      width: 32px;\n",
              "    }\n",
              "\n",
              "    .colab-df-convert:hover {\n",
              "      background-color: #E2EBFA;\n",
              "      box-shadow: 0px 1px 2px rgba(60, 64, 67, 0.3), 0px 1px 3px 1px rgba(60, 64, 67, 0.15);\n",
              "      fill: #174EA6;\n",
              "    }\n",
              "\n",
              "    .colab-df-buttons div {\n",
              "      margin-bottom: 4px;\n",
              "    }\n",
              "\n",
              "    [theme=dark] .colab-df-convert {\n",
              "      background-color: #3B4455;\n",
              "      fill: #D2E3FC;\n",
              "    }\n",
              "\n",
              "    [theme=dark] .colab-df-convert:hover {\n",
              "      background-color: #434B5C;\n",
              "      box-shadow: 0px 1px 3px 1px rgba(0, 0, 0, 0.15);\n",
              "      filter: drop-shadow(0px 1px 2px rgba(0, 0, 0, 0.3));\n",
              "      fill: #FFFFFF;\n",
              "    }\n",
              "  </style>\n",
              "\n",
              "    <script>\n",
              "      const buttonEl =\n",
              "        document.querySelector('#df-4fb5f225-ddaf-4dda-9c1e-8266f295f362 button.colab-df-convert');\n",
              "      buttonEl.style.display =\n",
              "        google.colab.kernel.accessAllowed ? 'block' : 'none';\n",
              "\n",
              "      async function convertToInteractive(key) {\n",
              "        const element = document.querySelector('#df-4fb5f225-ddaf-4dda-9c1e-8266f295f362');\n",
              "        const dataTable =\n",
              "          await google.colab.kernel.invokeFunction('convertToInteractive',\n",
              "                                                    [key], {});\n",
              "        if (!dataTable) return;\n",
              "\n",
              "        const docLinkHtml = 'Like what you see? Visit the ' +\n",
              "          '<a target=\"_blank\" href=https://colab.research.google.com/notebooks/data_table.ipynb>data table notebook</a>'\n",
              "          + ' to learn more about interactive tables.';\n",
              "        element.innerHTML = '';\n",
              "        dataTable['output_type'] = 'display_data';\n",
              "        await google.colab.output.renderOutput(dataTable, element);\n",
              "        const docLink = document.createElement('div');\n",
              "        docLink.innerHTML = docLinkHtml;\n",
              "        element.appendChild(docLink);\n",
              "      }\n",
              "    </script>\n",
              "  </div>\n",
              "\n",
              "\n",
              "    </div>\n",
              "  </div>\n"
            ],
            "application/vnd.google.colaboratory.intrinsic+json": {
              "type": "dataframe",
              "summary": "{\n  \"name\": \"df[df['Released_Year'] == 'PG']\",\n  \"rows\": 1,\n  \"fields\": [\n    {\n      \"column\": \"Unnamed: 0\",\n      \"properties\": {\n        \"dtype\": \"number\",\n        \"std\": null,\n        \"min\": 966,\n        \"max\": 966,\n        \"num_unique_values\": 1,\n        \"samples\": [\n          966\n        ],\n        \"semantic_type\": \"\",\n        \"description\": \"\"\n      }\n    },\n    {\n      \"column\": \"Series_Title\",\n      \"properties\": {\n        \"dtype\": \"string\",\n        \"num_unique_values\": 1,\n        \"samples\": [\n          \"Apollo 13\"\n        ],\n        \"semantic_type\": \"\",\n        \"description\": \"\"\n      }\n    },\n    {\n      \"column\": \"Released_Year\",\n      \"properties\": {\n        \"dtype\": \"string\",\n        \"num_unique_values\": 1,\n        \"samples\": [\n          \"PG\"\n        ],\n        \"semantic_type\": \"\",\n        \"description\": \"\"\n      }\n    },\n    {\n      \"column\": \"Certificate\",\n      \"properties\": {\n        \"dtype\": \"string\",\n        \"num_unique_values\": 1,\n        \"samples\": [\n          \"U\"\n        ],\n        \"semantic_type\": \"\",\n        \"description\": \"\"\n      }\n    },\n    {\n      \"column\": \"Runtime\",\n      \"properties\": {\n        \"dtype\": \"number\",\n        \"std\": null,\n        \"min\": 140,\n        \"max\": 140,\n        \"num_unique_values\": 1,\n        \"samples\": [\n          140\n        ],\n        \"semantic_type\": \"\",\n        \"description\": \"\"\n      }\n    },\n    {\n      \"column\": \"Genre\",\n      \"properties\": {\n        \"dtype\": \"string\",\n        \"num_unique_values\": 1,\n        \"samples\": [\n          \"Adventure, Drama, History\"\n        ],\n        \"semantic_type\": \"\",\n        \"description\": \"\"\n      }\n    },\n    {\n      \"column\": \"IMDB_Rating\",\n      \"properties\": {\n        \"dtype\": \"number\",\n        \"std\": null,\n        \"min\": 7.6,\n        \"max\": 7.6,\n        \"num_unique_values\": 1,\n        \"samples\": [\n          7.6\n        ],\n        \"semantic_type\": \"\",\n        \"description\": \"\"\n      }\n    },\n    {\n      \"column\": \"Overview\",\n      \"properties\": {\n        \"dtype\": \"string\",\n        \"num_unique_values\": 1,\n        \"samples\": [\n          \"NASA must devise a strategy to return Apollo 13 to Earth safely after the spacecraft undergoes massive internal damage putting the lives of the three astronauts on board in jeopardy.\"\n        ],\n        \"semantic_type\": \"\",\n        \"description\": \"\"\n      }\n    },\n    {\n      \"column\": \"Meta_score\",\n      \"properties\": {\n        \"dtype\": \"number\",\n        \"std\": null,\n        \"min\": 77.0,\n        \"max\": 77.0,\n        \"num_unique_values\": 1,\n        \"samples\": [\n          77.0\n        ],\n        \"semantic_type\": \"\",\n        \"description\": \"\"\n      }\n    },\n    {\n      \"column\": \"Director\",\n      \"properties\": {\n        \"dtype\": \"string\",\n        \"num_unique_values\": 1,\n        \"samples\": [\n          \"Ron Howard\"\n        ],\n        \"semantic_type\": \"\",\n        \"description\": \"\"\n      }\n    },\n    {\n      \"column\": \"Star1\",\n      \"properties\": {\n        \"dtype\": \"string\",\n        \"num_unique_values\": 1,\n        \"samples\": [\n          \"Tom Hanks\"\n        ],\n        \"semantic_type\": \"\",\n        \"description\": \"\"\n      }\n    },\n    {\n      \"column\": \"Star2\",\n      \"properties\": {\n        \"dtype\": \"string\",\n        \"num_unique_values\": 1,\n        \"samples\": [\n          \"Bill Paxton\"\n        ],\n        \"semantic_type\": \"\",\n        \"description\": \"\"\n      }\n    },\n    {\n      \"column\": \"Star3\",\n      \"properties\": {\n        \"dtype\": \"string\",\n        \"num_unique_values\": 1,\n        \"samples\": [\n          \"Kevin Bacon\"\n        ],\n        \"semantic_type\": \"\",\n        \"description\": \"\"\n      }\n    },\n    {\n      \"column\": \"Star4\",\n      \"properties\": {\n        \"dtype\": \"string\",\n        \"num_unique_values\": 1,\n        \"samples\": [\n          \"Gary Sinise\"\n        ],\n        \"semantic_type\": \"\",\n        \"description\": \"\"\n      }\n    },\n    {\n      \"column\": \"No_of_Votes\",\n      \"properties\": {\n        \"dtype\": \"number\",\n        \"std\": null,\n        \"min\": 269197,\n        \"max\": 269197,\n        \"num_unique_values\": 1,\n        \"samples\": [\n          269197\n        ],\n        \"semantic_type\": \"\",\n        \"description\": \"\"\n      }\n    },\n    {\n      \"column\": \"Gross\",\n      \"properties\": {\n        \"dtype\": \"string\",\n        \"num_unique_values\": 1,\n        \"samples\": [\n          \"173,837,933\"\n        ],\n        \"semantic_type\": \"\",\n        \"description\": \"\"\n      }\n    }\n  ]\n}"
            }
          },
          "metadata": {},
          "execution_count": 609
        }
      ]
    },
    {
      "cell_type": "markdown",
      "source": [
        "Analisando a condição, é possível ver que só tem uma única linha que possui o valor 'PG' na coluna de `Released_Year`, isso sugere que pode ter sido ocasionado por algum erro na coleta dos dados ou algo do tipo.\n",
        "\n",
        "Fazendo uma busca rápida sobre o título do filme (pelo site: https://www.imdb.com/title/tt0112384/) é possível ver que o valor pertence à coluna `Certificate` que se refere à classificação indicativa do filme, e que a data de lançamento foi em 1995."
      ],
      "metadata": {
        "id": "SAQyjQyPKhQB"
      }
    },
    {
      "cell_type": "code",
      "source": [
        "df.loc[df['Series_Title'] == 'Apollo 13', 'Released_Year'] = 1995\n",
        "df.loc[df['Series_Title'] == 'Apollo 13', 'Certificate'] = 'PG'"
      ],
      "metadata": {
        "id": "amP3FCWoIPGH"
      },
      "execution_count": 610,
      "outputs": []
    },
    {
      "cell_type": "code",
      "source": [
        "df[df['Series_Title'] == 'Apollo 13']"
      ],
      "metadata": {
        "colab": {
          "base_uri": "https://localhost:8080/",
          "height": 0
        },
        "id": "vf2hILvwIlSk",
        "outputId": "7d3baf5e-fdf2-4150-a882-8a709b2fdaeb"
      },
      "execution_count": 611,
      "outputs": [
        {
          "output_type": "execute_result",
          "data": {
            "text/plain": [
              "     Unnamed: 0 Series_Title Released_Year Certificate  Runtime  \\\n",
              "965         966    Apollo 13          1995          PG      140   \n",
              "\n",
              "                         Genre  IMDB_Rating  \\\n",
              "965  Adventure, Drama, History          7.6   \n",
              "\n",
              "                                              Overview  Meta_score  \\\n",
              "965  NASA must devise a strategy to return Apollo 1...        77.0   \n",
              "\n",
              "       Director      Star1        Star2        Star3        Star4  \\\n",
              "965  Ron Howard  Tom Hanks  Bill Paxton  Kevin Bacon  Gary Sinise   \n",
              "\n",
              "     No_of_Votes        Gross  \n",
              "965       269197  173,837,933  "
            ],
            "text/html": [
              "\n",
              "  <div id=\"df-53003eb2-4703-41ac-8845-3026bc1dcfe4\" class=\"colab-df-container\">\n",
              "    <div>\n",
              "<style scoped>\n",
              "    .dataframe tbody tr th:only-of-type {\n",
              "        vertical-align: middle;\n",
              "    }\n",
              "\n",
              "    .dataframe tbody tr th {\n",
              "        vertical-align: top;\n",
              "    }\n",
              "\n",
              "    .dataframe thead th {\n",
              "        text-align: right;\n",
              "    }\n",
              "</style>\n",
              "<table border=\"1\" class=\"dataframe\">\n",
              "  <thead>\n",
              "    <tr style=\"text-align: right;\">\n",
              "      <th></th>\n",
              "      <th>Unnamed: 0</th>\n",
              "      <th>Series_Title</th>\n",
              "      <th>Released_Year</th>\n",
              "      <th>Certificate</th>\n",
              "      <th>Runtime</th>\n",
              "      <th>Genre</th>\n",
              "      <th>IMDB_Rating</th>\n",
              "      <th>Overview</th>\n",
              "      <th>Meta_score</th>\n",
              "      <th>Director</th>\n",
              "      <th>Star1</th>\n",
              "      <th>Star2</th>\n",
              "      <th>Star3</th>\n",
              "      <th>Star4</th>\n",
              "      <th>No_of_Votes</th>\n",
              "      <th>Gross</th>\n",
              "    </tr>\n",
              "  </thead>\n",
              "  <tbody>\n",
              "    <tr>\n",
              "      <th>965</th>\n",
              "      <td>966</td>\n",
              "      <td>Apollo 13</td>\n",
              "      <td>1995</td>\n",
              "      <td>PG</td>\n",
              "      <td>140</td>\n",
              "      <td>Adventure, Drama, History</td>\n",
              "      <td>7.6</td>\n",
              "      <td>NASA must devise a strategy to return Apollo 1...</td>\n",
              "      <td>77.0</td>\n",
              "      <td>Ron Howard</td>\n",
              "      <td>Tom Hanks</td>\n",
              "      <td>Bill Paxton</td>\n",
              "      <td>Kevin Bacon</td>\n",
              "      <td>Gary Sinise</td>\n",
              "      <td>269197</td>\n",
              "      <td>173,837,933</td>\n",
              "    </tr>\n",
              "  </tbody>\n",
              "</table>\n",
              "</div>\n",
              "    <div class=\"colab-df-buttons\">\n",
              "\n",
              "  <div class=\"colab-df-container\">\n",
              "    <button class=\"colab-df-convert\" onclick=\"convertToInteractive('df-53003eb2-4703-41ac-8845-3026bc1dcfe4')\"\n",
              "            title=\"Convert this dataframe to an interactive table.\"\n",
              "            style=\"display:none;\">\n",
              "\n",
              "  <svg xmlns=\"http://www.w3.org/2000/svg\" height=\"24px\" viewBox=\"0 -960 960 960\">\n",
              "    <path d=\"M120-120v-720h720v720H120Zm60-500h600v-160H180v160Zm220 220h160v-160H400v160Zm0 220h160v-160H400v160ZM180-400h160v-160H180v160Zm440 0h160v-160H620v160ZM180-180h160v-160H180v160Zm440 0h160v-160H620v160Z\"/>\n",
              "  </svg>\n",
              "    </button>\n",
              "\n",
              "  <style>\n",
              "    .colab-df-container {\n",
              "      display:flex;\n",
              "      gap: 12px;\n",
              "    }\n",
              "\n",
              "    .colab-df-convert {\n",
              "      background-color: #E8F0FE;\n",
              "      border: none;\n",
              "      border-radius: 50%;\n",
              "      cursor: pointer;\n",
              "      display: none;\n",
              "      fill: #1967D2;\n",
              "      height: 32px;\n",
              "      padding: 0 0 0 0;\n",
              "      width: 32px;\n",
              "    }\n",
              "\n",
              "    .colab-df-convert:hover {\n",
              "      background-color: #E2EBFA;\n",
              "      box-shadow: 0px 1px 2px rgba(60, 64, 67, 0.3), 0px 1px 3px 1px rgba(60, 64, 67, 0.15);\n",
              "      fill: #174EA6;\n",
              "    }\n",
              "\n",
              "    .colab-df-buttons div {\n",
              "      margin-bottom: 4px;\n",
              "    }\n",
              "\n",
              "    [theme=dark] .colab-df-convert {\n",
              "      background-color: #3B4455;\n",
              "      fill: #D2E3FC;\n",
              "    }\n",
              "\n",
              "    [theme=dark] .colab-df-convert:hover {\n",
              "      background-color: #434B5C;\n",
              "      box-shadow: 0px 1px 3px 1px rgba(0, 0, 0, 0.15);\n",
              "      filter: drop-shadow(0px 1px 2px rgba(0, 0, 0, 0.3));\n",
              "      fill: #FFFFFF;\n",
              "    }\n",
              "  </style>\n",
              "\n",
              "    <script>\n",
              "      const buttonEl =\n",
              "        document.querySelector('#df-53003eb2-4703-41ac-8845-3026bc1dcfe4 button.colab-df-convert');\n",
              "      buttonEl.style.display =\n",
              "        google.colab.kernel.accessAllowed ? 'block' : 'none';\n",
              "\n",
              "      async function convertToInteractive(key) {\n",
              "        const element = document.querySelector('#df-53003eb2-4703-41ac-8845-3026bc1dcfe4');\n",
              "        const dataTable =\n",
              "          await google.colab.kernel.invokeFunction('convertToInteractive',\n",
              "                                                    [key], {});\n",
              "        if (!dataTable) return;\n",
              "\n",
              "        const docLinkHtml = 'Like what you see? Visit the ' +\n",
              "          '<a target=\"_blank\" href=https://colab.research.google.com/notebooks/data_table.ipynb>data table notebook</a>'\n",
              "          + ' to learn more about interactive tables.';\n",
              "        element.innerHTML = '';\n",
              "        dataTable['output_type'] = 'display_data';\n",
              "        await google.colab.output.renderOutput(dataTable, element);\n",
              "        const docLink = document.createElement('div');\n",
              "        docLink.innerHTML = docLinkHtml;\n",
              "        element.appendChild(docLink);\n",
              "      }\n",
              "    </script>\n",
              "  </div>\n",
              "\n",
              "\n",
              "    </div>\n",
              "  </div>\n"
            ],
            "application/vnd.google.colaboratory.intrinsic+json": {
              "type": "dataframe",
              "repr_error": "0"
            }
          },
          "metadata": {},
          "execution_count": 611
        }
      ]
    },
    {
      "cell_type": "code",
      "source": [
        "df['Released_Year'] = pd.to_numeric(df['Released_Year'])"
      ],
      "metadata": {
        "id": "O0InyF2EIscR"
      },
      "execution_count": 612,
      "outputs": []
    },
    {
      "cell_type": "markdown",
      "source": [
        "Após as mudanças, foi possível converter a coluna para valores numéricos."
      ],
      "metadata": {
        "id": "lRwwAFHxbLmw"
      }
    },
    {
      "cell_type": "code",
      "source": [
        "df['Gross'] = df['Gross'].str.replace(',', '')\n",
        "df['Gross'] = pd.to_numeric(df['Gross'])"
      ],
      "metadata": {
        "id": "3UGc6FySbRdK"
      },
      "execution_count": 613,
      "outputs": []
    },
    {
      "cell_type": "code",
      "source": [
        "df.info()"
      ],
      "metadata": {
        "colab": {
          "base_uri": "https://localhost:8080/"
        },
        "id": "HsU3cwe0d2Jl",
        "outputId": "e20b4e4a-ceca-4b65-af6a-41a956701acc"
      },
      "execution_count": 614,
      "outputs": [
        {
          "output_type": "stream",
          "name": "stdout",
          "text": [
            "<class 'pandas.core.frame.DataFrame'>\n",
            "RangeIndex: 999 entries, 0 to 998\n",
            "Data columns (total 16 columns):\n",
            " #   Column         Non-Null Count  Dtype  \n",
            "---  ------         --------------  -----  \n",
            " 0   Unnamed: 0     999 non-null    int64  \n",
            " 1   Series_Title   999 non-null    object \n",
            " 2   Released_Year  999 non-null    int64  \n",
            " 3   Certificate    898 non-null    object \n",
            " 4   Runtime        999 non-null    int64  \n",
            " 5   Genre          999 non-null    object \n",
            " 6   IMDB_Rating    999 non-null    float64\n",
            " 7   Overview       999 non-null    object \n",
            " 8   Meta_score     842 non-null    float64\n",
            " 9   Director       999 non-null    object \n",
            " 10  Star1          999 non-null    object \n",
            " 11  Star2          999 non-null    object \n",
            " 12  Star3          999 non-null    object \n",
            " 13  Star4          999 non-null    object \n",
            " 14  No_of_Votes    999 non-null    int64  \n",
            " 15  Gross          830 non-null    float64\n",
            "dtypes: float64(3), int64(4), object(9)\n",
            "memory usage: 125.0+ KB\n"
          ]
        }
      ]
    },
    {
      "cell_type": "markdown",
      "source": [
        "Todas as colunas foram convertidas de acordo com a análise (object para numeric)."
      ],
      "metadata": {
        "id": "k_Tx3fWzhTAk"
      }
    },
    {
      "cell_type": "markdown",
      "source": [
        "Antes de tratar os dados nulos, é possível tirar algumas informações com o `df.describe()`."
      ],
      "metadata": {
        "id": "-Zd4dDRnor9F"
      }
    },
    {
      "cell_type": "code",
      "source": [
        "df.describe()"
      ],
      "metadata": {
        "colab": {
          "base_uri": "https://localhost:8080/",
          "height": 0
        },
        "id": "sLWHOIQvpp_H",
        "outputId": "0c660b6e-abe3-4609-e6f4-281a7a3fe211"
      },
      "execution_count": 615,
      "outputs": [
        {
          "output_type": "execute_result",
          "data": {
            "text/plain": [
              "       Unnamed: 0  Released_Year     Runtime  IMDB_Rating  Meta_score  \\\n",
              "count  999.000000     999.000000  999.000000   999.000000  842.000000   \n",
              "mean   500.000000    1991.218218  122.871872     7.947948   77.969121   \n",
              "std    288.530761      23.297166   28.101227     0.272290   12.383257   \n",
              "min      1.000000    1920.000000   45.000000     7.600000   28.000000   \n",
              "25%    250.500000    1976.000000  103.000000     7.700000   70.000000   \n",
              "50%    500.000000    1999.000000  119.000000     7.900000   79.000000   \n",
              "75%    749.500000    2009.000000  137.000000     8.100000   87.000000   \n",
              "max    999.000000    2020.000000  321.000000     9.200000  100.000000   \n",
              "\n",
              "        No_of_Votes         Gross  \n",
              "count  9.990000e+02  8.300000e+02  \n",
              "mean   2.716214e+05  6.808257e+07  \n",
              "std    3.209126e+05  1.098076e+08  \n",
              "min    2.508800e+04  1.305000e+03  \n",
              "25%    5.547150e+04  3.245338e+06  \n",
              "50%    1.383560e+05  2.345744e+07  \n",
              "75%    3.731675e+05  8.087634e+07  \n",
              "max    2.303232e+06  9.366622e+08  "
            ],
            "text/html": [
              "\n",
              "  <div id=\"df-fb852329-7ec4-4c21-804a-451a8368aaa5\" class=\"colab-df-container\">\n",
              "    <div>\n",
              "<style scoped>\n",
              "    .dataframe tbody tr th:only-of-type {\n",
              "        vertical-align: middle;\n",
              "    }\n",
              "\n",
              "    .dataframe tbody tr th {\n",
              "        vertical-align: top;\n",
              "    }\n",
              "\n",
              "    .dataframe thead th {\n",
              "        text-align: right;\n",
              "    }\n",
              "</style>\n",
              "<table border=\"1\" class=\"dataframe\">\n",
              "  <thead>\n",
              "    <tr style=\"text-align: right;\">\n",
              "      <th></th>\n",
              "      <th>Unnamed: 0</th>\n",
              "      <th>Released_Year</th>\n",
              "      <th>Runtime</th>\n",
              "      <th>IMDB_Rating</th>\n",
              "      <th>Meta_score</th>\n",
              "      <th>No_of_Votes</th>\n",
              "      <th>Gross</th>\n",
              "    </tr>\n",
              "  </thead>\n",
              "  <tbody>\n",
              "    <tr>\n",
              "      <th>count</th>\n",
              "      <td>999.000000</td>\n",
              "      <td>999.000000</td>\n",
              "      <td>999.000000</td>\n",
              "      <td>999.000000</td>\n",
              "      <td>842.000000</td>\n",
              "      <td>9.990000e+02</td>\n",
              "      <td>8.300000e+02</td>\n",
              "    </tr>\n",
              "    <tr>\n",
              "      <th>mean</th>\n",
              "      <td>500.000000</td>\n",
              "      <td>1991.218218</td>\n",
              "      <td>122.871872</td>\n",
              "      <td>7.947948</td>\n",
              "      <td>77.969121</td>\n",
              "      <td>2.716214e+05</td>\n",
              "      <td>6.808257e+07</td>\n",
              "    </tr>\n",
              "    <tr>\n",
              "      <th>std</th>\n",
              "      <td>288.530761</td>\n",
              "      <td>23.297166</td>\n",
              "      <td>28.101227</td>\n",
              "      <td>0.272290</td>\n",
              "      <td>12.383257</td>\n",
              "      <td>3.209126e+05</td>\n",
              "      <td>1.098076e+08</td>\n",
              "    </tr>\n",
              "    <tr>\n",
              "      <th>min</th>\n",
              "      <td>1.000000</td>\n",
              "      <td>1920.000000</td>\n",
              "      <td>45.000000</td>\n",
              "      <td>7.600000</td>\n",
              "      <td>28.000000</td>\n",
              "      <td>2.508800e+04</td>\n",
              "      <td>1.305000e+03</td>\n",
              "    </tr>\n",
              "    <tr>\n",
              "      <th>25%</th>\n",
              "      <td>250.500000</td>\n",
              "      <td>1976.000000</td>\n",
              "      <td>103.000000</td>\n",
              "      <td>7.700000</td>\n",
              "      <td>70.000000</td>\n",
              "      <td>5.547150e+04</td>\n",
              "      <td>3.245338e+06</td>\n",
              "    </tr>\n",
              "    <tr>\n",
              "      <th>50%</th>\n",
              "      <td>500.000000</td>\n",
              "      <td>1999.000000</td>\n",
              "      <td>119.000000</td>\n",
              "      <td>7.900000</td>\n",
              "      <td>79.000000</td>\n",
              "      <td>1.383560e+05</td>\n",
              "      <td>2.345744e+07</td>\n",
              "    </tr>\n",
              "    <tr>\n",
              "      <th>75%</th>\n",
              "      <td>749.500000</td>\n",
              "      <td>2009.000000</td>\n",
              "      <td>137.000000</td>\n",
              "      <td>8.100000</td>\n",
              "      <td>87.000000</td>\n",
              "      <td>3.731675e+05</td>\n",
              "      <td>8.087634e+07</td>\n",
              "    </tr>\n",
              "    <tr>\n",
              "      <th>max</th>\n",
              "      <td>999.000000</td>\n",
              "      <td>2020.000000</td>\n",
              "      <td>321.000000</td>\n",
              "      <td>9.200000</td>\n",
              "      <td>100.000000</td>\n",
              "      <td>2.303232e+06</td>\n",
              "      <td>9.366622e+08</td>\n",
              "    </tr>\n",
              "  </tbody>\n",
              "</table>\n",
              "</div>\n",
              "    <div class=\"colab-df-buttons\">\n",
              "\n",
              "  <div class=\"colab-df-container\">\n",
              "    <button class=\"colab-df-convert\" onclick=\"convertToInteractive('df-fb852329-7ec4-4c21-804a-451a8368aaa5')\"\n",
              "            title=\"Convert this dataframe to an interactive table.\"\n",
              "            style=\"display:none;\">\n",
              "\n",
              "  <svg xmlns=\"http://www.w3.org/2000/svg\" height=\"24px\" viewBox=\"0 -960 960 960\">\n",
              "    <path d=\"M120-120v-720h720v720H120Zm60-500h600v-160H180v160Zm220 220h160v-160H400v160Zm0 220h160v-160H400v160ZM180-400h160v-160H180v160Zm440 0h160v-160H620v160ZM180-180h160v-160H180v160Zm440 0h160v-160H620v160Z\"/>\n",
              "  </svg>\n",
              "    </button>\n",
              "\n",
              "  <style>\n",
              "    .colab-df-container {\n",
              "      display:flex;\n",
              "      gap: 12px;\n",
              "    }\n",
              "\n",
              "    .colab-df-convert {\n",
              "      background-color: #E8F0FE;\n",
              "      border: none;\n",
              "      border-radius: 50%;\n",
              "      cursor: pointer;\n",
              "      display: none;\n",
              "      fill: #1967D2;\n",
              "      height: 32px;\n",
              "      padding: 0 0 0 0;\n",
              "      width: 32px;\n",
              "    }\n",
              "\n",
              "    .colab-df-convert:hover {\n",
              "      background-color: #E2EBFA;\n",
              "      box-shadow: 0px 1px 2px rgba(60, 64, 67, 0.3), 0px 1px 3px 1px rgba(60, 64, 67, 0.15);\n",
              "      fill: #174EA6;\n",
              "    }\n",
              "\n",
              "    .colab-df-buttons div {\n",
              "      margin-bottom: 4px;\n",
              "    }\n",
              "\n",
              "    [theme=dark] .colab-df-convert {\n",
              "      background-color: #3B4455;\n",
              "      fill: #D2E3FC;\n",
              "    }\n",
              "\n",
              "    [theme=dark] .colab-df-convert:hover {\n",
              "      background-color: #434B5C;\n",
              "      box-shadow: 0px 1px 3px 1px rgba(0, 0, 0, 0.15);\n",
              "      filter: drop-shadow(0px 1px 2px rgba(0, 0, 0, 0.3));\n",
              "      fill: #FFFFFF;\n",
              "    }\n",
              "  </style>\n",
              "\n",
              "    <script>\n",
              "      const buttonEl =\n",
              "        document.querySelector('#df-fb852329-7ec4-4c21-804a-451a8368aaa5 button.colab-df-convert');\n",
              "      buttonEl.style.display =\n",
              "        google.colab.kernel.accessAllowed ? 'block' : 'none';\n",
              "\n",
              "      async function convertToInteractive(key) {\n",
              "        const element = document.querySelector('#df-fb852329-7ec4-4c21-804a-451a8368aaa5');\n",
              "        const dataTable =\n",
              "          await google.colab.kernel.invokeFunction('convertToInteractive',\n",
              "                                                    [key], {});\n",
              "        if (!dataTable) return;\n",
              "\n",
              "        const docLinkHtml = 'Like what you see? Visit the ' +\n",
              "          '<a target=\"_blank\" href=https://colab.research.google.com/notebooks/data_table.ipynb>data table notebook</a>'\n",
              "          + ' to learn more about interactive tables.';\n",
              "        element.innerHTML = '';\n",
              "        dataTable['output_type'] = 'display_data';\n",
              "        await google.colab.output.renderOutput(dataTable, element);\n",
              "        const docLink = document.createElement('div');\n",
              "        docLink.innerHTML = docLinkHtml;\n",
              "        element.appendChild(docLink);\n",
              "      }\n",
              "    </script>\n",
              "  </div>\n",
              "\n",
              "\n",
              "    <div id=\"df-ed4f01ae-0efa-4262-b677-e63314f83c76\">\n",
              "      <button class=\"colab-df-quickchart\" onclick=\"quickchart('df-ed4f01ae-0efa-4262-b677-e63314f83c76')\"\n",
              "                title=\"Suggest charts\"\n",
              "                style=\"display:none;\">\n",
              "\n",
              "<svg xmlns=\"http://www.w3.org/2000/svg\" height=\"24px\"viewBox=\"0 0 24 24\"\n",
              "     width=\"24px\">\n",
              "    <g>\n",
              "        <path d=\"M19 3H5c-1.1 0-2 .9-2 2v14c0 1.1.9 2 2 2h14c1.1 0 2-.9 2-2V5c0-1.1-.9-2-2-2zM9 17H7v-7h2v7zm4 0h-2V7h2v10zm4 0h-2v-4h2v4z\"/>\n",
              "    </g>\n",
              "</svg>\n",
              "      </button>\n",
              "\n",
              "<style>\n",
              "  .colab-df-quickchart {\n",
              "      --bg-color: #E8F0FE;\n",
              "      --fill-color: #1967D2;\n",
              "      --hover-bg-color: #E2EBFA;\n",
              "      --hover-fill-color: #174EA6;\n",
              "      --disabled-fill-color: #AAA;\n",
              "      --disabled-bg-color: #DDD;\n",
              "  }\n",
              "\n",
              "  [theme=dark] .colab-df-quickchart {\n",
              "      --bg-color: #3B4455;\n",
              "      --fill-color: #D2E3FC;\n",
              "      --hover-bg-color: #434B5C;\n",
              "      --hover-fill-color: #FFFFFF;\n",
              "      --disabled-bg-color: #3B4455;\n",
              "      --disabled-fill-color: #666;\n",
              "  }\n",
              "\n",
              "  .colab-df-quickchart {\n",
              "    background-color: var(--bg-color);\n",
              "    border: none;\n",
              "    border-radius: 50%;\n",
              "    cursor: pointer;\n",
              "    display: none;\n",
              "    fill: var(--fill-color);\n",
              "    height: 32px;\n",
              "    padding: 0;\n",
              "    width: 32px;\n",
              "  }\n",
              "\n",
              "  .colab-df-quickchart:hover {\n",
              "    background-color: var(--hover-bg-color);\n",
              "    box-shadow: 0 1px 2px rgba(60, 64, 67, 0.3), 0 1px 3px 1px rgba(60, 64, 67, 0.15);\n",
              "    fill: var(--button-hover-fill-color);\n",
              "  }\n",
              "\n",
              "  .colab-df-quickchart-complete:disabled,\n",
              "  .colab-df-quickchart-complete:disabled:hover {\n",
              "    background-color: var(--disabled-bg-color);\n",
              "    fill: var(--disabled-fill-color);\n",
              "    box-shadow: none;\n",
              "  }\n",
              "\n",
              "  .colab-df-spinner {\n",
              "    border: 2px solid var(--fill-color);\n",
              "    border-color: transparent;\n",
              "    border-bottom-color: var(--fill-color);\n",
              "    animation:\n",
              "      spin 1s steps(1) infinite;\n",
              "  }\n",
              "\n",
              "  @keyframes spin {\n",
              "    0% {\n",
              "      border-color: transparent;\n",
              "      border-bottom-color: var(--fill-color);\n",
              "      border-left-color: var(--fill-color);\n",
              "    }\n",
              "    20% {\n",
              "      border-color: transparent;\n",
              "      border-left-color: var(--fill-color);\n",
              "      border-top-color: var(--fill-color);\n",
              "    }\n",
              "    30% {\n",
              "      border-color: transparent;\n",
              "      border-left-color: var(--fill-color);\n",
              "      border-top-color: var(--fill-color);\n",
              "      border-right-color: var(--fill-color);\n",
              "    }\n",
              "    40% {\n",
              "      border-color: transparent;\n",
              "      border-right-color: var(--fill-color);\n",
              "      border-top-color: var(--fill-color);\n",
              "    }\n",
              "    60% {\n",
              "      border-color: transparent;\n",
              "      border-right-color: var(--fill-color);\n",
              "    }\n",
              "    80% {\n",
              "      border-color: transparent;\n",
              "      border-right-color: var(--fill-color);\n",
              "      border-bottom-color: var(--fill-color);\n",
              "    }\n",
              "    90% {\n",
              "      border-color: transparent;\n",
              "      border-bottom-color: var(--fill-color);\n",
              "    }\n",
              "  }\n",
              "</style>\n",
              "\n",
              "      <script>\n",
              "        async function quickchart(key) {\n",
              "          const quickchartButtonEl =\n",
              "            document.querySelector('#' + key + ' button');\n",
              "          quickchartButtonEl.disabled = true;  // To prevent multiple clicks.\n",
              "          quickchartButtonEl.classList.add('colab-df-spinner');\n",
              "          try {\n",
              "            const charts = await google.colab.kernel.invokeFunction(\n",
              "                'suggestCharts', [key], {});\n",
              "          } catch (error) {\n",
              "            console.error('Error during call to suggestCharts:', error);\n",
              "          }\n",
              "          quickchartButtonEl.classList.remove('colab-df-spinner');\n",
              "          quickchartButtonEl.classList.add('colab-df-quickchart-complete');\n",
              "        }\n",
              "        (() => {\n",
              "          let quickchartButtonEl =\n",
              "            document.querySelector('#df-ed4f01ae-0efa-4262-b677-e63314f83c76 button');\n",
              "          quickchartButtonEl.style.display =\n",
              "            google.colab.kernel.accessAllowed ? 'block' : 'none';\n",
              "        })();\n",
              "      </script>\n",
              "    </div>\n",
              "\n",
              "    </div>\n",
              "  </div>\n"
            ],
            "application/vnd.google.colaboratory.intrinsic+json": {
              "type": "dataframe",
              "summary": "{\n  \"name\": \"df\",\n  \"rows\": 8,\n  \"fields\": [\n    {\n      \"column\": \"Unnamed: 0\",\n      \"properties\": {\n        \"dtype\": \"number\",\n        \"std\": 359.7396869891102,\n        \"min\": 1.0,\n        \"max\": 999.0,\n        \"num_unique_values\": 6,\n        \"samples\": [\n          999.0,\n          500.0,\n          749.5\n        ],\n        \"semantic_type\": \"\",\n        \"description\": \"\"\n      }\n    },\n    {\n      \"column\": \"Released_Year\",\n      \"properties\": {\n        \"dtype\": \"number\",\n        \"std\": 731.3918932761485,\n        \"min\": 23.29716601471224,\n        \"max\": 2020.0,\n        \"num_unique_values\": 8,\n        \"samples\": [\n          1991.2182182182182,\n          1999.0,\n          999.0\n        ],\n        \"semantic_type\": \"\",\n        \"description\": \"\"\n      }\n    },\n    {\n      \"column\": \"Runtime\",\n      \"properties\": {\n        \"dtype\": \"number\",\n        \"std\": 321.39265274733066,\n        \"min\": 28.101226975251933,\n        \"max\": 999.0,\n        \"num_unique_values\": 8,\n        \"samples\": [\n          122.87187187187187,\n          119.0,\n          999.0\n        ],\n        \"semantic_type\": \"\",\n        \"description\": \"\"\n      }\n    },\n    {\n      \"column\": \"IMDB_Rating\",\n      \"properties\": {\n        \"dtype\": \"number\",\n        \"std\": 350.75006201428675,\n        \"min\": 0.2722895085128789,\n        \"max\": 999.0,\n        \"num_unique_values\": 8,\n        \"samples\": [\n          7.947947947947948,\n          7.9,\n          999.0\n        ],\n        \"semantic_type\": \"\",\n        \"description\": \"\"\n      }\n    },\n    {\n      \"column\": \"Meta_score\",\n      \"properties\": {\n        \"dtype\": \"number\",\n        \"std\": 276.3601022395363,\n        \"min\": 12.383257326288954,\n        \"max\": 842.0,\n        \"num_unique_values\": 8,\n        \"samples\": [\n          77.96912114014252,\n          79.0,\n          842.0\n        ],\n        \"semantic_type\": \"\",\n        \"description\": \"\"\n      }\n    },\n    {\n      \"column\": \"No_of_Votes\",\n      \"properties\": {\n        \"dtype\": \"number\",\n        \"std\": 767392.3403630465,\n        \"min\": 999.0,\n        \"max\": 2303232.0,\n        \"num_unique_values\": 8,\n        \"samples\": [\n          271621.42242242245,\n          138356.0,\n          999.0\n        ],\n        \"semantic_type\": \"\",\n        \"description\": \"\"\n      }\n    },\n    {\n      \"column\": \"Gross\",\n      \"properties\": {\n        \"dtype\": \"number\",\n        \"std\": 319470433.8519118,\n        \"min\": 830.0,\n        \"max\": 936662225.0,\n        \"num_unique_values\": 8,\n        \"samples\": [\n          68082574.10481928,\n          23457439.5,\n          830.0\n        ],\n        \"semantic_type\": \"\",\n        \"description\": \"\"\n      }\n    }\n  ]\n}"
            }
          },
          "metadata": {},
          "execution_count": 615
        }
      ]
    },
    {
      "cell_type": "markdown",
      "source": [
        "A nota média do IMDB é aproximadamente 7.9, o que é uma nota muito boa considerando que a escala vai de 1 a 10. E a média da coluna Gross, que seria a bilheteria, está bem alta também, entretanto, vendo a mediana (50%), é possível ver que é muito mais baixa, isso implica que existem valores muito altos de Gross que estão puxando a média para cima."
      ],
      "metadata": {
        "id": "jDA8YyjH2rip"
      }
    },
    {
      "cell_type": "markdown",
      "source": [
        "Além disso, existem valores nulos na coluna `Gross`, que podem ser substituídos pela mediana dos valores. Entretanto existem aproximadamente 17% dos valores nulos em toda a coluna, e preencher só com a mediana geral, ficaria meio distorcido, então outra abordagem pode ser relacionar uma outra coluna para agrupar a mediana de acordo com essa outra coluna."
      ],
      "metadata": {
        "id": "VwEx-O6k5nC1"
      }
    },
    {
      "cell_type": "markdown",
      "source": [
        "Pode-se relacionar a coluna de `Released_Year` com a `Gross`, já que, contando com a inflação, o mesmo valor de décadas atrás não vale o mesmo do que nos dias de hoje. Então podemos criar por exemplo uma coluna que tem a mediana de bilheteria a cada década do ano mais antigo, para o mais atual."
      ],
      "metadata": {
        "id": "OSIJSG_LxTE1"
      }
    },
    {
      "cell_type": "code",
      "source": [
        "# Da pra fazer isso pegando a parte inteira do ano, e daí multiplicando por 10\n",
        "\n",
        "# Ex: 1947, ficaria 194 e multiplicando por 10 = 1940, quer seria década de 1940\n",
        "\n",
        "df['Decade'] = (df['Released_Year'] // 10) * 10"
      ],
      "metadata": {
        "id": "vuS-uQYNzgsD"
      },
      "execution_count": 616,
      "outputs": []
    },
    {
      "cell_type": "code",
      "source": [
        "df['Decade'].value_counts()"
      ],
      "metadata": {
        "colab": {
          "base_uri": "https://localhost:8080/",
          "height": 0
        },
        "id": "amZpguhI2Dku",
        "outputId": "3f5d5dfe-3304-490f-9fb9-767fa31beca3"
      },
      "execution_count": 617,
      "outputs": [
        {
          "output_type": "execute_result",
          "data": {
            "text/plain": [
              "Decade\n",
              "2010    242\n",
              "2000    237\n",
              "1990    150\n",
              "1980     89\n",
              "1970     76\n",
              "1960     73\n",
              "1950     56\n",
              "1940     35\n",
              "1930     24\n",
              "1920     11\n",
              "2020      6\n",
              "Name: count, dtype: int64"
            ],
            "text/html": [
              "<div>\n",
              "<style scoped>\n",
              "    .dataframe tbody tr th:only-of-type {\n",
              "        vertical-align: middle;\n",
              "    }\n",
              "\n",
              "    .dataframe tbody tr th {\n",
              "        vertical-align: top;\n",
              "    }\n",
              "\n",
              "    .dataframe thead th {\n",
              "        text-align: right;\n",
              "    }\n",
              "</style>\n",
              "<table border=\"1\" class=\"dataframe\">\n",
              "  <thead>\n",
              "    <tr style=\"text-align: right;\">\n",
              "      <th></th>\n",
              "      <th>count</th>\n",
              "    </tr>\n",
              "    <tr>\n",
              "      <th>Decade</th>\n",
              "      <th></th>\n",
              "    </tr>\n",
              "  </thead>\n",
              "  <tbody>\n",
              "    <tr>\n",
              "      <th>2010</th>\n",
              "      <td>242</td>\n",
              "    </tr>\n",
              "    <tr>\n",
              "      <th>2000</th>\n",
              "      <td>237</td>\n",
              "    </tr>\n",
              "    <tr>\n",
              "      <th>1990</th>\n",
              "      <td>150</td>\n",
              "    </tr>\n",
              "    <tr>\n",
              "      <th>1980</th>\n",
              "      <td>89</td>\n",
              "    </tr>\n",
              "    <tr>\n",
              "      <th>1970</th>\n",
              "      <td>76</td>\n",
              "    </tr>\n",
              "    <tr>\n",
              "      <th>1960</th>\n",
              "      <td>73</td>\n",
              "    </tr>\n",
              "    <tr>\n",
              "      <th>1950</th>\n",
              "      <td>56</td>\n",
              "    </tr>\n",
              "    <tr>\n",
              "      <th>1940</th>\n",
              "      <td>35</td>\n",
              "    </tr>\n",
              "    <tr>\n",
              "      <th>1930</th>\n",
              "      <td>24</td>\n",
              "    </tr>\n",
              "    <tr>\n",
              "      <th>1920</th>\n",
              "      <td>11</td>\n",
              "    </tr>\n",
              "    <tr>\n",
              "      <th>2020</th>\n",
              "      <td>6</td>\n",
              "    </tr>\n",
              "  </tbody>\n",
              "</table>\n",
              "</div><br><label><b>dtype:</b> int64</label>"
            ]
          },
          "metadata": {},
          "execution_count": 617
        }
      ]
    },
    {
      "cell_type": "markdown",
      "source": [
        "É possível observar que deu certo, e também notar que a maioria dos filmes desse dataset pertencem às décadas de 2010 e 2000."
      ],
      "metadata": {
        "id": "QivZjI222Kbu"
      }
    },
    {
      "cell_type": "markdown",
      "source": [
        "Agora podemos agrupar e fazer a mediana para cada década com o uso do groupby"
      ],
      "metadata": {
        "id": "EK2SVM5E5qRk"
      }
    },
    {
      "cell_type": "code",
      "source": [
        "median_for_decade = df.groupby('Decade')['Gross'].transform('median')"
      ],
      "metadata": {
        "id": "kfm-bX-h30Im"
      },
      "execution_count": 618,
      "outputs": []
    },
    {
      "cell_type": "code",
      "source": [
        "median_for_decade"
      ],
      "metadata": {
        "colab": {
          "base_uri": "https://localhost:8080/",
          "height": 0
        },
        "id": "BshjsTqD44ys",
        "outputId": "78af55bb-cf3b-4d7e-b948-a9dd8128541d"
      },
      "execution_count": 619,
      "outputs": [
        {
          "output_type": "execute_result",
          "data": {
            "text/plain": [
              "0      31800000.0\n",
              "1      23637265.0\n",
              "2      31800000.0\n",
              "3       8000000.0\n",
              "4      23637265.0\n",
              "          ...    \n",
              "994    16217773.0\n",
              "995     8000000.0\n",
              "996     8000000.0\n",
              "997     3505000.0\n",
              "998     3270000.0\n",
              "Name: Gross, Length: 999, dtype: float64"
            ],
            "text/html": [
              "<div>\n",
              "<style scoped>\n",
              "    .dataframe tbody tr th:only-of-type {\n",
              "        vertical-align: middle;\n",
              "    }\n",
              "\n",
              "    .dataframe tbody tr th {\n",
              "        vertical-align: top;\n",
              "    }\n",
              "\n",
              "    .dataframe thead th {\n",
              "        text-align: right;\n",
              "    }\n",
              "</style>\n",
              "<table border=\"1\" class=\"dataframe\">\n",
              "  <thead>\n",
              "    <tr style=\"text-align: right;\">\n",
              "      <th></th>\n",
              "      <th>Gross</th>\n",
              "    </tr>\n",
              "  </thead>\n",
              "  <tbody>\n",
              "    <tr>\n",
              "      <th>0</th>\n",
              "      <td>31800000.0</td>\n",
              "    </tr>\n",
              "    <tr>\n",
              "      <th>1</th>\n",
              "      <td>23637265.0</td>\n",
              "    </tr>\n",
              "    <tr>\n",
              "      <th>2</th>\n",
              "      <td>31800000.0</td>\n",
              "    </tr>\n",
              "    <tr>\n",
              "      <th>3</th>\n",
              "      <td>8000000.0</td>\n",
              "    </tr>\n",
              "    <tr>\n",
              "      <th>4</th>\n",
              "      <td>23637265.0</td>\n",
              "    </tr>\n",
              "    <tr>\n",
              "      <th>...</th>\n",
              "      <td>...</td>\n",
              "    </tr>\n",
              "    <tr>\n",
              "      <th>994</th>\n",
              "      <td>16217773.0</td>\n",
              "    </tr>\n",
              "    <tr>\n",
              "      <th>995</th>\n",
              "      <td>8000000.0</td>\n",
              "    </tr>\n",
              "    <tr>\n",
              "      <th>996</th>\n",
              "      <td>8000000.0</td>\n",
              "    </tr>\n",
              "    <tr>\n",
              "      <th>997</th>\n",
              "      <td>3505000.0</td>\n",
              "    </tr>\n",
              "    <tr>\n",
              "      <th>998</th>\n",
              "      <td>3270000.0</td>\n",
              "    </tr>\n",
              "  </tbody>\n",
              "</table>\n",
              "<p>999 rows × 1 columns</p>\n",
              "</div><br><label><b>dtype:</b> float64</label>"
            ]
          },
          "metadata": {},
          "execution_count": 619
        }
      ]
    },
    {
      "cell_type": "markdown",
      "source": [
        "Nota-se que o ano de 2020 foi o único que teve valores `NaN`, e isso faz muito sentido porque foi o ano em que ocorreu a pandemia do Corona Vírus e ninguém podia sair de casa.\n",
        "\n",
        "Também é possível observar saltos de faturamento entre as décadas, que podem significar marcos na história cinematográfica."
      ],
      "metadata": {
        "id": "dDTHHCcM54bB"
      }
    },
    {
      "cell_type": "code",
      "source": [
        "df['Gross'] = df['Gross'].fillna(median_for_decade)"
      ],
      "metadata": {
        "id": "S_SpNiZy_9L2"
      },
      "execution_count": 620,
      "outputs": []
    },
    {
      "cell_type": "markdown",
      "source": [
        "Assim, a coluna Gross que tinham dados faltantes foi preenchida com a mediana por década."
      ],
      "metadata": {
        "id": "cCtC9O54D55b"
      }
    },
    {
      "cell_type": "markdown",
      "source": [
        "# Análise de características e primeiras hipóteses"
      ],
      "metadata": {
        "id": "PsAzxSM6CvGW"
      }
    },
    {
      "cell_type": "code",
      "source": [
        "fig, axes = plt.subplots(4, 1, figsize=(15, 10))\n",
        "\n",
        "sns.boxplot(ax = axes[0], data = df, x = 'Gross')\n",
        "\n",
        "sns.boxplot(ax = axes[1], data = df, x = 'IMDB_Rating')\n",
        "\n",
        "sns.boxplot(ax = axes[2], data = df, x = 'No_of_Votes')\n",
        "\n",
        "sns.boxplot(ax = axes[3], data = df, x = 'Runtime')\n",
        "\n",
        "plt.tight_layout()\n",
        "plt.show()"
      ],
      "metadata": {
        "colab": {
          "base_uri": "https://localhost:8080/",
          "height": 0
        },
        "id": "VnzXi8DENCoU",
        "outputId": "f3e4ac54-be6c-4624-a8f0-1cf9305b15fd"
      },
      "execution_count": 621,
      "outputs": [
        {
          "output_type": "display_data",
          "data": {
            "text/plain": [
              "<Figure size 1500x1000 with 4 Axes>"
            ],
            "image/png": "[encoded data removed]"
          },
          "metadata": {}
        }
      ]
    },
    {
      "cell_type": "markdown",
      "source": [
        "Já de início é possível observar que existem muitos outliers acima do limite superior tanto em `Gross` quanto em `No_of_Votes`, e a parte superior alongada também indica que os dados possuem uma assimetria positiva. Enquanto que no boxplot de `Runtime`, parece bem simétrico, o que sugere uma distribuição normal dos dados em torno da média."
      ],
      "metadata": {
        "id": "-ixlEXkaNETq"
      }
    },
    {
      "cell_type": "code",
      "source": [
        "fig, axes = plt.subplots(4, 1, figsize=(15, 10))\n",
        "\n",
        "sns.histplot(ax = axes[0], data = df, x = 'Gross', kde = True, bins = 30)\n",
        "\n",
        "sns.histplot(ax = axes[1], data = df, x = 'IMDB_Rating', kde = True, bins = 10)\n",
        "\n",
        "sns.histplot(ax = axes[2], data = df, x = 'No_of_Votes', kde = True, bins = 30)\n",
        "\n",
        "sns.histplot(ax = axes[3], data = df, x = 'Runtime', kde = True, bins = 30)\n",
        "\n",
        "plt.tight_layout()\n",
        "plt.show()"
      ],
      "metadata": {
        "colab": {
          "base_uri": "https://localhost:8080/",
          "height": 0
        },
        "id": "DBSPF6tZDcdH",
        "outputId": "20d6d65a-3d9b-4597-bbdb-94a52ab605fb"
      },
      "execution_count": 622,
      "outputs": [
        {
          "output_type": "display_data",
          "data": {
            "text/plain": [
              "<Figure size 1500x1000 with 4 Axes>"
            ],
            "image/png": "[encoded data removed]"
          },
          "metadata": {}
        }
      ]
    },
    {
      "cell_type": "markdown",
      "source": [
        "É possível observar no gráfico que a coluna `Gross` e `No_of_Votes` tem um comportamento bem semelhante. E ambos possuem uma assimetria ou Skewness positiva como foi previsto analisando pelo boxplot, isso significa que para a coluna `Gross`, o faturamento da maioria dos filmes são relativamente baixos, em comparação com a cauda, que são valores muito mais altos.\n",
        "\n",
        "O mesmo acontece com a coluna `No_of_Votes`, onde a maioria dos votos são relativamente baixos em comparação com os demais, isso porque são poucos os filmes que viralizam, e consequentemente recebem uma quantidade maior de votos.\n",
        "\n",
        "Pode-se dizer que a coluna do `IMDB_rating` também segue a mesma lógica, já que também são poucos os filmes com notas muito altas.\n",
        "\n",
        "A coluna `Runtime` possui um comportamento semelhante à uma curva normal, com uma média próxima de 120 minutos de duração."
      ],
      "metadata": {
        "id": "wgkpf9nwHWlb"
      }
    },
    {
      "cell_type": "code",
      "source": [
        "plt.figure(figsize=(12, 8))\n",
        "\n",
        "top_15_directors = df['Director'].value_counts().nlargest(15)\n",
        "\n",
        "sns.barplot(x=top_15_directors.values, y=top_15_directors.index)\n",
        "\n",
        "plt.tight_layout()\n",
        "plt.show()"
      ],
      "metadata": {
        "colab": {
          "base_uri": "https://localhost:8080/",
          "height": 0
        },
        "id": "Mpz4sGGLXBh9",
        "outputId": "b6655f6a-52bf-4688-e5c8-055085694edd"
      },
      "execution_count": 623,
      "outputs": [
        {
          "output_type": "display_data",
          "data": {
            "text/plain": [
              "<Figure size 1200x800 with 1 Axes>"
            ],
            "image/png": "[encoded data removed]"
          },
          "metadata": {}
        }
      ]
    },
    {
      "cell_type": "markdown",
      "source": [
        "Aqui foi feita uma comparação entre os 15 diretores que mais aparecem no dataset.\n",
        "\n",
        "**Será que um diretor produzir muitos filmes tem alguma relação com o sucesso de bilheteria?**"
      ],
      "metadata": {
        "id": "HJCdcejA1ZO3"
      }
    },
    {
      "cell_type": "code",
      "source": [
        "df_top_15_directors = df[df['Director'].isin(top_15_directors.index)]\n",
        "df_without_top15 = df[~(df['Director'].isin(top_15_directors.index))]\n",
        "\n",
        "df_top_15_directors.describe()"
      ],
      "metadata": {
        "colab": {
          "base_uri": "https://localhost:8080/",
          "height": 0
        },
        "id": "886_ymj64cNS",
        "outputId": "6516f266-ffde-429c-8e4f-423eec3fd1ed"
      },
      "execution_count": 624,
      "outputs": [
        {
          "output_type": "execute_result",
          "data": {
            "text/plain": [
              "       Unnamed: 0  Released_Year     Runtime  IMDB_Rating  Meta_score  \\\n",
              "count  138.000000     138.000000  138.000000   138.000000  121.000000   \n",
              "mean   397.710145    1980.739130  124.601449     8.069565   82.157025   \n",
              "std    301.490294      23.412924   29.053321     0.317060   10.830519   \n",
              "min      2.000000    1932.000000   79.000000     7.600000   45.000000   \n",
              "25%    119.500000    1959.000000  101.000000     7.800000   75.000000   \n",
              "50%    302.000000    1984.500000  120.500000     8.100000   83.000000   \n",
              "75%    679.500000    2002.000000  141.000000     8.300000   90.000000   \n",
              "max    999.000000    2019.000000  209.000000     9.000000  100.000000   \n",
              "\n",
              "        No_of_Votes         Gross       Decade  \n",
              "count  1.380000e+02  1.380000e+02   138.000000  \n",
              "mean   4.196259e+05  6.156679e+07  1976.231884  \n",
              "std    4.762017e+05  9.220002e+07    23.466171  \n",
              "min    2.531200e+04  1.256200e+04  1930.000000  \n",
              "25%    7.792875e+04  7.157500e+06  1950.000000  \n",
              "50%    1.986475e+05  2.698405e+07  1980.000000  \n",
              "75%    6.040375e+05  8.567983e+07  2000.000000  \n",
              "max    2.303232e+06  5.348584e+08  2010.000000  "
            ],
            "text/html": [
              "\n",
              "  <div id=\"df-b0ca729d-1fae-4af0-bb9f-4336635bb309\" class=\"colab-df-container\">\n",
              "    <div>\n",
              "<style scoped>\n",
              "    .dataframe tbody tr th:only-of-type {\n",
              "        vertical-align: middle;\n",
              "    }\n",
              "\n",
              "    .dataframe tbody tr th {\n",
              "        vertical-align: top;\n",
              "    }\n",
              "\n",
              "    .dataframe thead th {\n",
              "        text-align: right;\n",
              "    }\n",
              "</style>\n",
              "<table border=\"1\" class=\"dataframe\">\n",
              "  <thead>\n",
              "    <tr style=\"text-align: right;\">\n",
              "      <th></th>\n",
              "      <th>Unnamed: 0</th>\n",
              "      <th>Released_Year</th>\n",
              "      <th>Runtime</th>\n",
              "      <th>IMDB_Rating</th>\n",
              "      <th>Meta_score</th>\n",
              "      <th>No_of_Votes</th>\n",
              "      <th>Gross</th>\n",
              "      <th>Decade</th>\n",
              "    </tr>\n",
              "  </thead>\n",
              "  <tbody>\n",
              "    <tr>\n",
              "      <th>count</th>\n",
              "      <td>138.000000</td>\n",
              "      <td>138.000000</td>\n",
              "      <td>138.000000</td>\n",
              "      <td>138.000000</td>\n",
              "      <td>121.000000</td>\n",
              "      <td>1.380000e+02</td>\n",
              "      <td>1.380000e+02</td>\n",
              "      <td>138.000000</td>\n",
              "    </tr>\n",
              "    <tr>\n",
              "      <th>mean</th>\n",
              "      <td>397.710145</td>\n",
              "      <td>1980.739130</td>\n",
              "      <td>124.601449</td>\n",
              "      <td>8.069565</td>\n",
              "      <td>82.157025</td>\n",
              "      <td>4.196259e+05</td>\n",
              "      <td>6.156679e+07</td>\n",
              "      <td>1976.231884</td>\n",
              "    </tr>\n",
              "    <tr>\n",
              "      <th>std</th>\n",
              "      <td>301.490294</td>\n",
              "      <td>23.412924</td>\n",
              "      <td>29.053321</td>\n",
              "      <td>0.317060</td>\n",
              "      <td>10.830519</td>\n",
              "      <td>4.762017e+05</td>\n",
              "      <td>9.220002e+07</td>\n",
              "      <td>23.466171</td>\n",
              "    </tr>\n",
              "    <tr>\n",
              "      <th>min</th>\n",
              "      <td>2.000000</td>\n",
              "      <td>1932.000000</td>\n",
              "      <td>79.000000</td>\n",
              "      <td>7.600000</td>\n",
              "      <td>45.000000</td>\n",
              "      <td>2.531200e+04</td>\n",
              "      <td>1.256200e+04</td>\n",
              "      <td>1930.000000</td>\n",
              "    </tr>\n",
              "    <tr>\n",
              "      <th>25%</th>\n",
              "      <td>119.500000</td>\n",
              "      <td>1959.000000</td>\n",
              "      <td>101.000000</td>\n",
              "      <td>7.800000</td>\n",
              "      <td>75.000000</td>\n",
              "      <td>7.792875e+04</td>\n",
              "      <td>7.157500e+06</td>\n",
              "      <td>1950.000000</td>\n",
              "    </tr>\n",
              "    <tr>\n",
              "      <th>50%</th>\n",
              "      <td>302.000000</td>\n",
              "      <td>1984.500000</td>\n",
              "      <td>120.500000</td>\n",
              "      <td>8.100000</td>\n",
              "      <td>83.000000</td>\n",
              "      <td>1.986475e+05</td>\n",
              "      <td>2.698405e+07</td>\n",
              "      <td>1980.000000</td>\n",
              "    </tr>\n",
              "    <tr>\n",
              "      <th>75%</th>\n",
              "      <td>679.500000</td>\n",
              "      <td>2002.000000</td>\n",
              "      <td>141.000000</td>\n",
              "      <td>8.300000</td>\n",
              "      <td>90.000000</td>\n",
              "      <td>6.040375e+05</td>\n",
              "      <td>8.567983e+07</td>\n",
              "      <td>2000.000000</td>\n",
              "    </tr>\n",
              "    <tr>\n",
              "      <th>max</th>\n",
              "      <td>999.000000</td>\n",
              "      <td>2019.000000</td>\n",
              "      <td>209.000000</td>\n",
              "      <td>9.000000</td>\n",
              "      <td>100.000000</td>\n",
              "      <td>2.303232e+06</td>\n",
              "      <td>5.348584e+08</td>\n",
              "      <td>2010.000000</td>\n",
              "    </tr>\n",
              "  </tbody>\n",
              "</table>\n",
              "</div>\n",
              "    <div class=\"colab-df-buttons\">\n",
              "\n",
              "  <div class=\"colab-df-container\">\n",
              "    <button class=\"colab-df-convert\" onclick=\"convertToInteractive('df-b0ca729d-1fae-4af0-bb9f-4336635bb309')\"\n",
              "            title=\"Convert this dataframe to an interactive table.\"\n",
              "            style=\"display:none;\">\n",
              "\n",
              "  <svg xmlns=\"http://www.w3.org/2000/svg\" height=\"24px\" viewBox=\"0 -960 960 960\">\n",
              "    <path d=\"M120-120v-720h720v720H120Zm60-500h600v-160H180v160Zm220 220h160v-160H400v160Zm0 220h160v-160H400v160ZM180-400h160v-160H180v160Zm440 0h160v-160H620v160ZM180-180h160v-160H180v160Zm440 0h160v-160H620v160Z\"/>\n",
              "  </svg>\n",
              "    </button>\n",
              "\n",
              "  <style>\n",
              "    .colab-df-container {\n",
              "      display:flex;\n",
              "      gap: 12px;\n",
              "    }\n",
              "\n",
              "    .colab-df-convert {\n",
              "      background-color: #E8F0FE;\n",
              "      border: none;\n",
              "      border-radius: 50%;\n",
              "      cursor: pointer;\n",
              "      display: none;\n",
              "      fill: #1967D2;\n",
              "      height: 32px;\n",
              "      padding: 0 0 0 0;\n",
              "      width: 32px;\n",
              "    }\n",
              "\n",
              "    .colab-df-convert:hover {\n",
              "      background-color: #E2EBFA;\n",
              "      box-shadow: 0px 1px 2px rgba(60, 64, 67, 0.3), 0px 1px 3px 1px rgba(60, 64, 67, 0.15);\n",
              "      fill: #174EA6;\n",
              "    }\n",
              "\n",
              "    .colab-df-buttons div {\n",
              "      margin-bottom: 4px;\n",
              "    }\n",
              "\n",
              "    [theme=dark] .colab-df-convert {\n",
              "      background-color: #3B4455;\n",
              "      fill: #D2E3FC;\n",
              "    }\n",
              "\n",
              "    [theme=dark] .colab-df-convert:hover {\n",
              "      background-color: #434B5C;\n",
              "      box-shadow: 0px 1px 3px 1px rgba(0, 0, 0, 0.15);\n",
              "      filter: drop-shadow(0px 1px 2px rgba(0, 0, 0, 0.3));\n",
              "      fill: #FFFFFF;\n",
              "    }\n",
              "  </style>\n",
              "\n",
              "    <script>\n",
              "      const buttonEl =\n",
              "        document.querySelector('#df-b0ca729d-1fae-4af0-bb9f-4336635bb309 button.colab-df-convert');\n",
              "      buttonEl.style.display =\n",
              "        google.colab.kernel.accessAllowed ? 'block' : 'none';\n",
              "\n",
              "      async function convertToInteractive(key) {\n",
              "        const element = document.querySelector('#df-b0ca729d-1fae-4af0-bb9f-4336635bb309');\n",
              "        const dataTable =\n",
              "          await google.colab.kernel.invokeFunction('convertToInteractive',\n",
              "                                                    [key], {});\n",
              "        if (!dataTable) return;\n",
              "\n",
              "        const docLinkHtml = 'Like what you see? Visit the ' +\n",
              "          '<a target=\"_blank\" href=https://colab.research.google.com/notebooks/data_table.ipynb>data table notebook</a>'\n",
              "          + ' to learn more about interactive tables.';\n",
              "        element.innerHTML = '';\n",
              "        dataTable['output_type'] = 'display_data';\n",
              "        await google.colab.output.renderOutput(dataTable, element);\n",
              "        const docLink = document.createElement('div');\n",
              "        docLink.innerHTML = docLinkHtml;\n",
              "        element.appendChild(docLink);\n",
              "      }\n",
              "    </script>\n",
              "  </div>\n",
              "\n",
              "\n",
              "    <div id=\"df-1fecf11e-e356-47c7-8588-eca74d1b2d59\">\n",
              "      <button class=\"colab-df-quickchart\" onclick=\"quickchart('df-1fecf11e-e356-47c7-8588-eca74d1b2d59')\"\n",
              "                title=\"Suggest charts\"\n",
              "                style=\"display:none;\">\n",
              "\n",
              "<svg xmlns=\"http://www.w3.org/2000/svg\" height=\"24px\"viewBox=\"0 0 24 24\"\n",
              "     width=\"24px\">\n",
              "    <g>\n",
              "        <path d=\"M19 3H5c-1.1 0-2 .9-2 2v14c0 1.1.9 2 2 2h14c1.1 0 2-.9 2-2V5c0-1.1-.9-2-2-2zM9 17H7v-7h2v7zm4 0h-2V7h2v10zm4 0h-2v-4h2v4z\"/>\n",
              "    </g>\n",
              "</svg>\n",
              "      </button>\n",
              "\n",
              "<style>\n",
              "  .colab-df-quickchart {\n",
              "      --bg-color: #E8F0FE;\n",
              "      --fill-color: #1967D2;\n",
              "      --hover-bg-color: #E2EBFA;\n",
              "      --hover-fill-color: #174EA6;\n",
              "      --disabled-fill-color: #AAA;\n",
              "      --disabled-bg-color: #DDD;\n",
              "  }\n",
              "\n",
              "  [theme=dark] .colab-df-quickchart {\n",
              "      --bg-color: #3B4455;\n",
              "      --fill-color: #D2E3FC;\n",
              "      --hover-bg-color: #434B5C;\n",
              "      --hover-fill-color: #FFFFFF;\n",
              "      --disabled-bg-color: #3B4455;\n",
              "      --disabled-fill-color: #666;\n",
              "  }\n",
              "\n",
              "  .colab-df-quickchart {\n",
              "    background-color: var(--bg-color);\n",
              "    border: none;\n",
              "    border-radius: 50%;\n",
              "    cursor: pointer;\n",
              "    display: none;\n",
              "    fill: var(--fill-color);\n",
              "    height: 32px;\n",
              "    padding: 0;\n",
              "    width: 32px;\n",
              "  }\n",
              "\n",
              "  .colab-df-quickchart:hover {\n",
              "    background-color: var(--hover-bg-color);\n",
              "    box-shadow: 0 1px 2px rgba(60, 64, 67, 0.3), 0 1px 3px 1px rgba(60, 64, 67, 0.15);\n",
              "    fill: var(--button-hover-fill-color);\n",
              "  }\n",
              "\n",
              "  .colab-df-quickchart-complete:disabled,\n",
              "  .colab-df-quickchart-complete:disabled:hover {\n",
              "    background-color: var(--disabled-bg-color);\n",
              "    fill: var(--disabled-fill-color);\n",
              "    box-shadow: none;\n",
              "  }\n",
              "\n",
              "  .colab-df-spinner {\n",
              "    border: 2px solid var(--fill-color);\n",
              "    border-color: transparent;\n",
              "    border-bottom-color: var(--fill-color);\n",
              "    animation:\n",
              "      spin 1s steps(1) infinite;\n",
              "  }\n",
              "\n",
              "  @keyframes spin {\n",
              "    0% {\n",
              "      border-color: transparent;\n",
              "      border-bottom-color: var(--fill-color);\n",
              "      border-left-color: var(--fill-color);\n",
              "    }\n",
              "    20% {\n",
              "      border-color: transparent;\n",
              "      border-left-color: var(--fill-color);\n",
              "      border-top-color: var(--fill-color);\n",
              "    }\n",
              "    30% {\n",
              "      border-color: transparent;\n",
              "      border-left-color: var(--fill-color);\n",
              "      border-top-color: var(--fill-color);\n",
              "      border-right-color: var(--fill-color);\n",
              "    }\n",
              "    40% {\n",
              "      border-color: transparent;\n",
              "      border-right-color: var(--fill-color);\n",
              "      border-top-color: var(--fill-color);\n",
              "    }\n",
              "    60% {\n",
              "      border-color: transparent;\n",
              "      border-right-color: var(--fill-color);\n",
              "    }\n",
              "    80% {\n",
              "      border-color: transparent;\n",
              "      border-right-color: var(--fill-color);\n",
              "      border-bottom-color: var(--fill-color);\n",
              "    }\n",
              "    90% {\n",
              "      border-color: transparent;\n",
              "      border-bottom-color: var(--fill-color);\n",
              "    }\n",
              "  }\n",
              "</style>\n",
              "\n",
              "      <script>\n",
              "        async function quickchart(key) {\n",
              "          const quickchartButtonEl =\n",
              "            document.querySelector('#' + key + ' button');\n",
              "          quickchartButtonEl.disabled = true;  // To prevent multiple clicks.\n",
              "          quickchartButtonEl.classList.add('colab-df-spinner');\n",
              "          try {\n",
              "            const charts = await google.colab.kernel.invokeFunction(\n",
              "                'suggestCharts', [key], {});\n",
              "          } catch (error) {\n",
              "            console.error('Error during call to suggestCharts:', error);\n",
              "          }\n",
              "          quickchartButtonEl.classList.remove('colab-df-spinner');\n",
              "          quickchartButtonEl.classList.add('colab-df-quickchart-complete');\n",
              "        }\n",
              "        (() => {\n",
              "          let quickchartButtonEl =\n",
              "            document.querySelector('#df-1fecf11e-e356-47c7-8588-eca74d1b2d59 button');\n",
              "          quickchartButtonEl.style.display =\n",
              "            google.colab.kernel.accessAllowed ? 'block' : 'none';\n",
              "        })();\n",
              "      </script>\n",
              "    </div>\n",
              "\n",
              "    </div>\n",
              "  </div>\n"
            ],
            "application/vnd.google.colaboratory.intrinsic+json": {
              "type": "dataframe",
              "summary": "{\n  \"name\": \"df_top_15_directors\",\n  \"rows\": 8,\n  \"fields\": [\n    {\n      \"column\": \"Unnamed: 0\",\n      \"properties\": {\n        \"dtype\": \"number\",\n        \"std\": 328.08118644322315,\n        \"min\": 2.0,\n        \"max\": 999.0,\n        \"num_unique_values\": 8,\n        \"samples\": [\n          397.71014492753625,\n          302.0,\n          138.0\n        ],\n        \"semantic_type\": \"\",\n        \"description\": \"\"\n      }\n    },\n    {\n      \"column\": \"Released_Year\",\n      \"properties\": {\n        \"dtype\": \"number\",\n        \"std\": 879.9096549255053,\n        \"min\": 23.412924357618447,\n        \"max\": 2019.0,\n        \"num_unique_values\": 8,\n        \"samples\": [\n          1980.7391304347825,\n          1984.5,\n          138.0\n        ],\n        \"semantic_type\": \"\",\n        \"description\": \"\"\n      }\n    },\n    {\n      \"column\": \"Runtime\",\n      \"properties\": {\n        \"dtype\": \"number\",\n        \"std\": 52.07263497729262,\n        \"min\": 29.053321192883008,\n        \"max\": 209.0,\n        \"num_unique_values\": 8,\n        \"samples\": [\n          124.60144927536231,\n          120.5,\n          138.0\n        ],\n        \"semantic_type\": \"\",\n        \"description\": \"\"\n      }\n    },\n    {\n      \"column\": \"IMDB_Rating\",\n      \"properties\": {\n        \"dtype\": \"number\",\n        \"std\": 46.38882923385033,\n        \"min\": 0.3170596424705126,\n        \"max\": 138.0,\n        \"num_unique_values\": 8,\n        \"samples\": [\n          8.069565217391304,\n          8.1,\n          138.0\n        ],\n        \"semantic_type\": \"\",\n        \"description\": \"\"\n      }\n    },\n    {\n      \"column\": \"Meta_score\",\n      \"properties\": {\n        \"dtype\": \"number\",\n        \"std\": 34.00176906973649,\n        \"min\": 10.830518812182858,\n        \"max\": 121.0,\n        \"num_unique_values\": 8,\n        \"samples\": [\n          82.15702479338843,\n          83.0,\n          121.0\n        ],\n        \"semantic_type\": \"\",\n        \"description\": \"\"\n      }\n    },\n    {\n      \"column\": \"No_of_Votes\",\n      \"properties\": {\n        \"dtype\": \"number\",\n        \"std\": 757086.7677386423,\n        \"min\": 138.0,\n        \"max\": 2303232.0,\n        \"num_unique_values\": 8,\n        \"samples\": [\n          419625.9202898551,\n          198647.5,\n          138.0\n        ],\n        \"semantic_type\": \"\",\n        \"description\": \"\"\n      }\n    },\n    {\n      \"column\": \"Gross\",\n      \"properties\": {\n        \"dtype\": \"number\",\n        \"std\": 179198397.22828284,\n        \"min\": 138.0,\n        \"max\": 534858444.0,\n        \"num_unique_values\": 8,\n        \"samples\": [\n          61566786.66304348,\n          26984049.5,\n          138.0\n        ],\n        \"semantic_type\": \"\",\n        \"description\": \"\"\n      }\n    },\n    {\n      \"column\": \"Decade\",\n      \"properties\": {\n        \"dtype\": \"number\",\n        \"std\": 877.4871223355192,\n        \"min\": 23.46617066688728,\n        \"max\": 2010.0,\n        \"num_unique_values\": 8,\n        \"samples\": [\n          1976.231884057971,\n          1980.0,\n          138.0\n        ],\n        \"semantic_type\": \"\",\n        \"description\": \"\"\n      }\n    }\n  ]\n}"
            }
          },
          "metadata": {},
          "execution_count": 624
        }
      ]
    },
    {
      "cell_type": "code",
      "source": [
        "df_without_top15.describe()"
      ],
      "metadata": {
        "colab": {
          "base_uri": "https://localhost:8080/",
          "height": 0
        },
        "id": "rKW5wm7GDCt9",
        "outputId": "33c90c54-52cb-4c53-8697-1cb8c9bd822b"
      },
      "execution_count": 625,
      "outputs": [
        {
          "output_type": "execute_result",
          "data": {
            "text/plain": [
              "       Unnamed: 0  Released_Year     Runtime  IMDB_Rating  Meta_score  \\\n",
              "count   861.00000     861.000000  861.000000   861.000000  721.000000   \n",
              "mean    516.39489    1992.897793  122.594657     7.928455   77.266297   \n",
              "std     283.16184      22.849126   27.953024     0.259366   12.494936   \n",
              "min       1.00000    1920.000000   45.000000     7.600000   28.000000   \n",
              "25%     279.00000    1979.000000  103.000000     7.700000   70.000000   \n",
              "50%     516.00000    2000.000000  119.000000     7.900000   78.000000   \n",
              "75%     764.00000    2010.000000  135.000000     8.100000   86.000000   \n",
              "max     997.00000    2020.000000  321.000000     9.200000  100.000000   \n",
              "\n",
              "        No_of_Votes         Gross       Decade  \n",
              "count  8.610000e+02  8.550000e+02   861.000000  \n",
              "mean   2.478994e+05  6.001243e+07  1988.246225  \n",
              "std    2.816155e+05  1.036086e+08    22.723101  \n",
              "min    2.508800e+04  1.305000e+03  1920.000000  \n",
              "25%    5.289700e+04  3.505000e+06  1970.000000  \n",
              "50%    1.259930e+05  2.353089e+07  2000.000000  \n",
              "75%    3.554130e+05  5.981332e+07  2010.000000  \n",
              "max    1.809221e+06  9.366622e+08  2020.000000  "
            ],
            "text/html": [
              "\n",
              "  <div id=\"df-5f4abd9c-0dd8-48b5-8b85-0f9cd6f59a32\" class=\"colab-df-container\">\n",
              "    <div>\n",
              "<style scoped>\n",
              "    .dataframe tbody tr th:only-of-type {\n",
              "        vertical-align: middle;\n",
              "    }\n",
              "\n",
              "    .dataframe tbody tr th {\n",
              "        vertical-align: top;\n",
              "    }\n",
              "\n",
              "    .dataframe thead th {\n",
              "        text-align: right;\n",
              "    }\n",
              "</style>\n",
              "<table border=\"1\" class=\"dataframe\">\n",
              "  <thead>\n",
              "    <tr style=\"text-align: right;\">\n",
              "      <th></th>\n",
              "      <th>Unnamed: 0</th>\n",
              "      <th>Released_Year</th>\n",
              "      <th>Runtime</th>\n",
              "      <th>IMDB_Rating</th>\n",
              "      <th>Meta_score</th>\n",
              "      <th>No_of_Votes</th>\n",
              "      <th>Gross</th>\n",
              "      <th>Decade</th>\n",
              "    </tr>\n",
              "  </thead>\n",
              "  <tbody>\n",
              "    <tr>\n",
              "      <th>count</th>\n",
              "      <td>861.00000</td>\n",
              "      <td>861.000000</td>\n",
              "      <td>861.000000</td>\n",
              "      <td>861.000000</td>\n",
              "      <td>721.000000</td>\n",
              "      <td>8.610000e+02</td>\n",
              "      <td>8.550000e+02</td>\n",
              "      <td>861.000000</td>\n",
              "    </tr>\n",
              "    <tr>\n",
              "      <th>mean</th>\n",
              "      <td>516.39489</td>\n",
              "      <td>1992.897793</td>\n",
              "      <td>122.594657</td>\n",
              "      <td>7.928455</td>\n",
              "      <td>77.266297</td>\n",
              "      <td>2.478994e+05</td>\n",
              "      <td>6.001243e+07</td>\n",
              "      <td>1988.246225</td>\n",
              "    </tr>\n",
              "    <tr>\n",
              "      <th>std</th>\n",
              "      <td>283.16184</td>\n",
              "      <td>22.849126</td>\n",
              "      <td>27.953024</td>\n",
              "      <td>0.259366</td>\n",
              "      <td>12.494936</td>\n",
              "      <td>2.816155e+05</td>\n",
              "      <td>1.036086e+08</td>\n",
              "      <td>22.723101</td>\n",
              "    </tr>\n",
              "    <tr>\n",
              "      <th>min</th>\n",
              "      <td>1.00000</td>\n",
              "      <td>1920.000000</td>\n",
              "      <td>45.000000</td>\n",
              "      <td>7.600000</td>\n",
              "      <td>28.000000</td>\n",
              "      <td>2.508800e+04</td>\n",
              "      <td>1.305000e+03</td>\n",
              "      <td>1920.000000</td>\n",
              "    </tr>\n",
              "    <tr>\n",
              "      <th>25%</th>\n",
              "      <td>279.00000</td>\n",
              "      <td>1979.000000</td>\n",
              "      <td>103.000000</td>\n",
              "      <td>7.700000</td>\n",
              "      <td>70.000000</td>\n",
              "      <td>5.289700e+04</td>\n",
              "      <td>3.505000e+06</td>\n",
              "      <td>1970.000000</td>\n",
              "    </tr>\n",
              "    <tr>\n",
              "      <th>50%</th>\n",
              "      <td>516.00000</td>\n",
              "      <td>2000.000000</td>\n",
              "      <td>119.000000</td>\n",
              "      <td>7.900000</td>\n",
              "      <td>78.000000</td>\n",
              "      <td>1.259930e+05</td>\n",
              "      <td>2.353089e+07</td>\n",
              "      <td>2000.000000</td>\n",
              "    </tr>\n",
              "    <tr>\n",
              "      <th>75%</th>\n",
              "      <td>764.00000</td>\n",
              "      <td>2010.000000</td>\n",
              "      <td>135.000000</td>\n",
              "      <td>8.100000</td>\n",
              "      <td>86.000000</td>\n",
              "      <td>3.554130e+05</td>\n",
              "      <td>5.981332e+07</td>\n",
              "      <td>2010.000000</td>\n",
              "    </tr>\n",
              "    <tr>\n",
              "      <th>max</th>\n",
              "      <td>997.00000</td>\n",
              "      <td>2020.000000</td>\n",
              "      <td>321.000000</td>\n",
              "      <td>9.200000</td>\n",
              "      <td>100.000000</td>\n",
              "      <td>1.809221e+06</td>\n",
              "      <td>9.366622e+08</td>\n",
              "      <td>2020.000000</td>\n",
              "    </tr>\n",
              "  </tbody>\n",
              "</table>\n",
              "</div>\n",
              "    <div class=\"colab-df-buttons\">\n",
              "\n",
              "  <div class=\"colab-df-container\">\n",
              "    <button class=\"colab-df-convert\" onclick=\"convertToInteractive('df-5f4abd9c-0dd8-48b5-8b85-0f9cd6f59a32')\"\n",
              "            title=\"Convert this dataframe to an interactive table.\"\n",
              "            style=\"display:none;\">\n",
              "\n",
              "  <svg xmlns=\"http://www.w3.org/2000/svg\" height=\"24px\" viewBox=\"0 -960 960 960\">\n",
              "    <path d=\"M120-120v-720h720v720H120Zm60-500h600v-160H180v160Zm220 220h160v-160H400v160Zm0 220h160v-160H400v160ZM180-400h160v-160H180v160Zm440 0h160v-160H620v160ZM180-180h160v-160H180v160Zm440 0h160v-160H620v160Z\"/>\n",
              "  </svg>\n",
              "    </button>\n",
              "\n",
              "  <style>\n",
              "    .colab-df-container {\n",
              "      display:flex;\n",
              "      gap: 12px;\n",
              "    }\n",
              "\n",
              "    .colab-df-convert {\n",
              "      background-color: #E8F0FE;\n",
              "      border: none;\n",
              "      border-radius: 50%;\n",
              "      cursor: pointer;\n",
              "      display: none;\n",
              "      fill: #1967D2;\n",
              "      height: 32px;\n",
              "      padding: 0 0 0 0;\n",
              "      width: 32px;\n",
              "    }\n",
              "\n",
              "    .colab-df-convert:hover {\n",
              "      background-color: #E2EBFA;\n",
              "      box-shadow: 0px 1px 2px rgba(60, 64, 67, 0.3), 0px 1px 3px 1px rgba(60, 64, 67, 0.15);\n",
              "      fill: #174EA6;\n",
              "    }\n",
              "\n",
              "    .colab-df-buttons div {\n",
              "      margin-bottom: 4px;\n",
              "    }\n",
              "\n",
              "    [theme=dark] .colab-df-convert {\n",
              "      background-color: #3B4455;\n",
              "      fill: #D2E3FC;\n",
              "    }\n",
              "\n",
              "    [theme=dark] .colab-df-convert:hover {\n",
              "      background-color: #434B5C;\n",
              "      box-shadow: 0px 1px 3px 1px rgba(0, 0, 0, 0.15);\n",
              "      filter: drop-shadow(0px 1px 2px rgba(0, 0, 0, 0.3));\n",
              "      fill: #FFFFFF;\n",
              "    }\n",
              "  </style>\n",
              "\n",
              "    <script>\n",
              "      const buttonEl =\n",
              "        document.querySelector('#df-5f4abd9c-0dd8-48b5-8b85-0f9cd6f59a32 button.colab-df-convert');\n",
              "      buttonEl.style.display =\n",
              "        google.colab.kernel.accessAllowed ? 'block' : 'none';\n",
              "\n",
              "      async function convertToInteractive(key) {\n",
              "        const element = document.querySelector('#df-5f4abd9c-0dd8-48b5-8b85-0f9cd6f59a32');\n",
              "        const dataTable =\n",
              "          await google.colab.kernel.invokeFunction('convertToInteractive',\n",
              "                                                    [key], {});\n",
              "        if (!dataTable) return;\n",
              "\n",
              "        const docLinkHtml = 'Like what you see? Visit the ' +\n",
              "          '<a target=\"_blank\" href=https://colab.research.google.com/notebooks/data_table.ipynb>data table notebook</a>'\n",
              "          + ' to learn more about interactive tables.';\n",
              "        element.innerHTML = '';\n",
              "        dataTable['output_type'] = 'display_data';\n",
              "        await google.colab.output.renderOutput(dataTable, element);\n",
              "        const docLink = document.createElement('div');\n",
              "        docLink.innerHTML = docLinkHtml;\n",
              "        element.appendChild(docLink);\n",
              "      }\n",
              "    </script>\n",
              "  </div>\n",
              "\n",
              "\n",
              "    <div id=\"df-0b9cd1f9-177d-4460-a634-a3693d370bda\">\n",
              "      <button class=\"colab-df-quickchart\" onclick=\"quickchart('df-0b9cd1f9-177d-4460-a634-a3693d370bda')\"\n",
              "                title=\"Suggest charts\"\n",
              "                style=\"display:none;\">\n",
              "\n",
              "<svg xmlns=\"http://www.w3.org/2000/svg\" height=\"24px\"viewBox=\"0 0 24 24\"\n",
              "     width=\"24px\">\n",
              "    <g>\n",
              "        <path d=\"M19 3H5c-1.1 0-2 .9-2 2v14c0 1.1.9 2 2 2h14c1.1 0 2-.9 2-2V5c0-1.1-.9-2-2-2zM9 17H7v-7h2v7zm4 0h-2V7h2v10zm4 0h-2v-4h2v4z\"/>\n",
              "    </g>\n",
              "</svg>\n",
              "      </button>\n",
              "\n",
              "<style>\n",
              "  .colab-df-quickchart {\n",
              "      --bg-color: #E8F0FE;\n",
              "      --fill-color: #1967D2;\n",
              "      --hover-bg-color: #E2EBFA;\n",
              "      --hover-fill-color: #174EA6;\n",
              "      --disabled-fill-color: #AAA;\n",
              "      --disabled-bg-color: #DDD;\n",
              "  }\n",
              "\n",
              "  [theme=dark] .colab-df-quickchart {\n",
              "      --bg-color: #3B4455;\n",
              "      --fill-color: #D2E3FC;\n",
              "      --hover-bg-color: #434B5C;\n",
              "      --hover-fill-color: #FFFFFF;\n",
              "      --disabled-bg-color: #3B4455;\n",
              "      --disabled-fill-color: #666;\n",
              "  }\n",
              "\n",
              "  .colab-df-quickchart {\n",
              "    background-color: var(--bg-color);\n",
              "    border: none;\n",
              "    border-radius: 50%;\n",
              "    cursor: pointer;\n",
              "    display: none;\n",
              "    fill: var(--fill-color);\n",
              "    height: 32px;\n",
              "    padding: 0;\n",
              "    width: 32px;\n",
              "  }\n",
              "\n",
              "  .colab-df-quickchart:hover {\n",
              "    background-color: var(--hover-bg-color);\n",
              "    box-shadow: 0 1px 2px rgba(60, 64, 67, 0.3), 0 1px 3px 1px rgba(60, 64, 67, 0.15);\n",
              "    fill: var(--button-hover-fill-color);\n",
              "  }\n",
              "\n",
              "  .colab-df-quickchart-complete:disabled,\n",
              "  .colab-df-quickchart-complete:disabled:hover {\n",
              "    background-color: var(--disabled-bg-color);\n",
              "    fill: var(--disabled-fill-color);\n",
              "    box-shadow: none;\n",
              "  }\n",
              "\n",
              "  .colab-df-spinner {\n",
              "    border: 2px solid var(--fill-color);\n",
              "    border-color: transparent;\n",
              "    border-bottom-color: var(--fill-color);\n",
              "    animation:\n",
              "      spin 1s steps(1) infinite;\n",
              "  }\n",
              "\n",
              "  @keyframes spin {\n",
              "    0% {\n",
              "      border-color: transparent;\n",
              "      border-bottom-color: var(--fill-color);\n",
              "      border-left-color: var(--fill-color);\n",
              "    }\n",
              "    20% {\n",
              "      border-color: transparent;\n",
              "      border-left-color: var(--fill-color);\n",
              "      border-top-color: var(--fill-color);\n",
              "    }\n",
              "    30% {\n",
              "      border-color: transparent;\n",
              "      border-left-color: var(--fill-color);\n",
              "      border-top-color: var(--fill-color);\n",
              "      border-right-color: var(--fill-color);\n",
              "    }\n",
              "    40% {\n",
              "      border-color: transparent;\n",
              "      border-right-color: var(--fill-color);\n",
              "      border-top-color: var(--fill-color);\n",
              "    }\n",
              "    60% {\n",
              "      border-color: transparent;\n",
              "      border-right-color: var(--fill-color);\n",
              "    }\n",
              "    80% {\n",
              "      border-color: transparent;\n",
              "      border-right-color: var(--fill-color);\n",
              "      border-bottom-color: var(--fill-color);\n",
              "    }\n",
              "    90% {\n",
              "      border-color: transparent;\n",
              "      border-bottom-color: var(--fill-color);\n",
              "    }\n",
              "  }\n",
              "</style>\n",
              "\n",
              "      <script>\n",
              "        async function quickchart(key) {\n",
              "          const quickchartButtonEl =\n",
              "            document.querySelector('#' + key + ' button');\n",
              "          quickchartButtonEl.disabled = true;  // To prevent multiple clicks.\n",
              "          quickchartButtonEl.classList.add('colab-df-spinner');\n",
              "          try {\n",
              "            const charts = await google.colab.kernel.invokeFunction(\n",
              "                'suggestCharts', [key], {});\n",
              "          } catch (error) {\n",
              "            console.error('Error during call to suggestCharts:', error);\n",
              "          }\n",
              "          quickchartButtonEl.classList.remove('colab-df-spinner');\n",
              "          quickchartButtonEl.classList.add('colab-df-quickchart-complete');\n",
              "        }\n",
              "        (() => {\n",
              "          let quickchartButtonEl =\n",
              "            document.querySelector('#df-0b9cd1f9-177d-4460-a634-a3693d370bda button');\n",
              "          quickchartButtonEl.style.display =\n",
              "            google.colab.kernel.accessAllowed ? 'block' : 'none';\n",
              "        })();\n",
              "      </script>\n",
              "    </div>\n",
              "\n",
              "    </div>\n",
              "  </div>\n"
            ],
            "application/vnd.google.colaboratory.intrinsic+json": {
              "type": "dataframe",
              "summary": "{\n  \"name\": \"df_without_top15\",\n  \"rows\": 8,\n  \"fields\": [\n    {\n      \"column\": \"Unnamed: 0\",\n      \"properties\": {\n        \"dtype\": \"number\",\n        \"std\": 335.19615019476845,\n        \"min\": 1.0,\n        \"max\": 997.0,\n        \"num_unique_values\": 8,\n        \"samples\": [\n          516.3948896631823,\n          516.0,\n          861.0\n        ],\n        \"semantic_type\": \"\",\n        \"description\": \"\"\n      }\n    },\n    {\n      \"column\": \"Released_Year\",\n      \"properties\": {\n        \"dtype\": \"number\",\n        \"std\": 750.0887020418603,\n        \"min\": 22.849126129725278,\n        \"max\": 2020.0,\n        \"num_unique_values\": 8,\n        \"samples\": [\n          1992.897793263647,\n          2000.0,\n          861.0\n        ],\n        \"semantic_type\": \"\",\n        \"description\": \"\"\n      }\n    },\n    {\n      \"column\": \"Runtime\",\n      \"properties\": {\n        \"dtype\": \"number\",\n        \"std\": 274.93138473423164,\n        \"min\": 27.953024037096895,\n        \"max\": 861.0,\n        \"num_unique_values\": 8,\n        \"samples\": [\n          122.59465737514518,\n          119.0,\n          861.0\n        ],\n        \"semantic_type\": \"\",\n        \"description\": \"\"\n      }\n    },\n    {\n      \"column\": \"IMDB_Rating\",\n      \"properties\": {\n        \"dtype\": \"number\",\n        \"std\": 301.96313543619516,\n        \"min\": 0.25936605524717954,\n        \"max\": 861.0,\n        \"num_unique_values\": 8,\n        \"samples\": [\n          7.928455284552846,\n          7.9,\n          861.0\n        ],\n        \"semantic_type\": \"\",\n        \"description\": \"\"\n      }\n    },\n    {\n      \"column\": \"Meta_score\",\n      \"properties\": {\n        \"dtype\": \"number\",\n        \"std\": 233.97499571316206,\n        \"min\": 12.494936252809842,\n        \"max\": 721.0,\n        \"num_unique_values\": 8,\n        \"samples\": [\n          77.26629680998613,\n          78.0,\n          721.0\n        ],\n        \"semantic_type\": \"\",\n        \"description\": \"\"\n      }\n    },\n    {\n      \"column\": \"No_of_Votes\",\n      \"properties\": {\n        \"dtype\": \"number\",\n        \"std\": 598706.527527178,\n        \"min\": 861.0,\n        \"max\": 1809221.0,\n        \"num_unique_values\": 8,\n        \"samples\": [\n          247899.44715447153,\n          125993.0,\n          861.0\n        ],\n        \"semantic_type\": \"\",\n        \"description\": \"\"\n      }\n    },\n    {\n      \"column\": \"Gross\",\n      \"properties\": {\n        \"dtype\": \"number\",\n        \"std\": 320636622.2774735,\n        \"min\": 855.0,\n        \"max\": 936662225.0,\n        \"num_unique_values\": 8,\n        \"samples\": [\n          60012425.32631579,\n          23530892.0,\n          855.0\n        ],\n        \"semantic_type\": \"\",\n        \"description\": \"\"\n      }\n    },\n    {\n      \"column\": \"Decade\",\n      \"properties\": {\n        \"dtype\": \"number\",\n        \"std\": 749.1376458750697,\n        \"min\": 22.72310063780214,\n        \"max\": 2020.0,\n        \"num_unique_values\": 8,\n        \"samples\": [\n          1988.246225319396,\n          2000.0,\n          861.0\n        ],\n        \"semantic_type\": \"\",\n        \"description\": \"\"\n      }\n    }\n  ]\n}"
            }
          },
          "metadata": {},
          "execution_count": 625
        }
      ]
    },
    {
      "cell_type": "markdown",
      "source": [
        "Pode-se perceber que a média das colunas `IMDB_Rating`, `Meta_score` e `Gross` são todos maiores no dataset em que estão apenas os top 15 diretores que mais aparecem no dataset, em comparação com o restante do dataset original, isso mostra que sim, os diretores que produzem muitos filmes estão associados com o desempenho da bilheteria e avaliações maiores."
      ],
      "metadata": {
        "id": "aeZb1Z2DDjUI"
      }
    },
    {
      "cell_type": "code",
      "source": [
        "plt.figure(figsize=(12,8))\n",
        "sns.scatterplot(df, x='Meta_score', y='Gross')\n",
        "\n",
        "plt.show()"
      ],
      "metadata": {
        "colab": {
          "base_uri": "https://localhost:8080/",
          "height": 0
        },
        "id": "5yD-rpv9i7dM",
        "outputId": "bfefa49f-7c6f-4475-e1d4-8be333eee36e"
      },
      "execution_count": 626,
      "outputs": [
        {
          "output_type": "display_data",
          "data": {
            "text/plain": [
              "<Figure size 1200x800 with 1 Axes>"
            ],
            "image/png": "[encoded data removed]"
          },
          "metadata": {}
        }
      ]
    },
    {
      "cell_type": "markdown",
      "source": [
        "Nesse gráfico é possível perceber que os dados estão mais inclinados para a direita e para cima, mas ainda assim, não se pode dizer que ter nota alta é sinônimo de sucesso de bilheteria. Existem filmes com nota menor que 70 que renderam muito mais do que filmes com nota 80 para cima."
      ],
      "metadata": {
        "id": "xenBLjFjQk_k"
      }
    },
    {
      "cell_type": "code",
      "source": [
        "correlation_meta_gross = df['Meta_score'].corr(df['Gross'])\n",
        "\n",
        "print(f\"O coeficiente de correlação entre Meta score e Gross é: {correlation_meta_gross:.4f}\")"
      ],
      "metadata": {
        "colab": {
          "base_uri": "https://localhost:8080/"
        },
        "id": "a3HZoF8vnrlR",
        "outputId": "8ac9b40e-8858-4eb4-b04e-20d7e109c0ee"
      },
      "execution_count": 627,
      "outputs": [
        {
          "output_type": "stream",
          "name": "stdout",
          "text": [
            "O coeficiente de correlação entre Meta score e Gross é: -0.0509\n"
          ]
        }
      ]
    },
    {
      "cell_type": "markdown",
      "source": [
        "O coeficiente mostra que não existe correlação ou é muito baixa."
      ],
      "metadata": {
        "id": "MRh0aFr1nzEv"
      }
    },
    {
      "cell_type": "code",
      "source": [
        "plt.figure(figsize=(12,8))\n",
        "sns.scatterplot(df, x='No_of_Votes', y='Gross')\n",
        "\n",
        "plt.show()"
      ],
      "metadata": {
        "colab": {
          "base_uri": "https://localhost:8080/",
          "height": 0
        },
        "id": "_oYb3wxdkLxz",
        "outputId": "7e083947-e156-40a5-9cff-dc20fb18d305"
      },
      "execution_count": 628,
      "outputs": [
        {
          "output_type": "display_data",
          "data": {
            "text/plain": [
              "<Figure size 1200x800 with 1 Axes>"
            ],
            "image/png": "[encoded data removed]"
          },
          "metadata": {}
        }
      ]
    },
    {
      "cell_type": "markdown",
      "source": [
        "Aqui existe uma correlação, onde conforme o numero de votos aumenta, a receita também aumenta, entretanto, um número grande de votos não significa que o filme será lucrativo, pois existem filmes com poucos votos relativos, que lucraram muito mais do que com muitos votos. Mas um número grande de votos influencia muito no sucesso de um filme, pois exige um certo engajamento das pessoas pra que isso aconteça.\n",
        "\n"
      ],
      "metadata": {
        "id": "fTdi3O04RNao"
      }
    },
    {
      "cell_type": "code",
      "source": [
        "correlation_votes_gross = df['No_of_Votes'].corr(df['Gross'])\n",
        "\n",
        "print(f\"O coeficiente de correlação entre No Votes e Gross é: {correlation_votes_gross:.4f}\")"
      ],
      "metadata": {
        "colab": {
          "base_uri": "https://localhost:8080/"
        },
        "id": "OcTAxzXonZTO",
        "outputId": "d8f443e3-a297-435b-edd3-06092d6fb1a3"
      },
      "execution_count": 629,
      "outputs": [
        {
          "output_type": "stream",
          "name": "stdout",
          "text": [
            "O coeficiente de correlação entre No Votes e Gross é: 0.6038\n"
          ]
        }
      ]
    },
    {
      "cell_type": "markdown",
      "source": [
        "É uma correlação perto de +1, isso significa que é uma correlação positiva, indicando que existe uma tendência entre essas duas colunas."
      ],
      "metadata": {
        "id": "NWYEVvc8oAri"
      }
    },
    {
      "cell_type": "code",
      "source": [
        "plt.figure(figsize=(12,8))\n",
        "sns.scatterplot(df, x='IMDB_Rating', y='Gross')\n",
        "\n",
        "plt.show()"
      ],
      "metadata": {
        "colab": {
          "base_uri": "https://localhost:8080/",
          "height": 0
        },
        "id": "6g7mjFvqkhs2",
        "outputId": "1dacf712-591b-4248-f70e-100da50d4de0"
      },
      "execution_count": 630,
      "outputs": [
        {
          "output_type": "display_data",
          "data": {
            "text/plain": [
              "<Figure size 1200x800 with 1 Axes>"
            ],
            "image/png": "[encoded data removed]"
          },
          "metadata": {}
        }
      ]
    },
    {
      "cell_type": "markdown",
      "source": [
        "Esse gráfico mostra que uma nota maior no IMDB de um filme não significa que ele será lucrativo, visto que os pontos estão espalhados de forma que, um filme com nota 7,9 arrecadou mais do que um com 9,2. Claro que também existe influencia da inflação, já que um valor bruto menor antigamente poderia valer mais ou equivalente do que um valor bruto nos dias de hoje, conforme foi dito anteriormente."
      ],
      "metadata": {
        "id": "Q_LqUGdaTkoF"
      }
    },
    {
      "cell_type": "code",
      "source": [
        "correlation_imdb_gross = df['IMDB_Rating'].corr(df['Gross'])\n",
        "\n",
        "print(f\"O coeficiente de correlação entre IMDB e Gross é: {correlation_imdb_gross:.4f}\")"
      ],
      "metadata": {
        "colab": {
          "base_uri": "https://localhost:8080/"
        },
        "id": "wXyIA91Pm4Tb",
        "outputId": "32907d6f-40c0-4b31-a42f-e44098bc2695"
      },
      "execution_count": 631,
      "outputs": [
        {
          "output_type": "stream",
          "name": "stdout",
          "text": [
            "O coeficiente de correlação entre IMDB e Gross é: 0.0907\n"
          ]
        }
      ]
    },
    {
      "cell_type": "markdown",
      "source": [
        "Esse coeficiente mostra que a correlação entre essas 2 colunas é muito baixa ou quase inexistente."
      ],
      "metadata": {
        "id": "ysOLZov4nOVu"
      }
    },
    {
      "cell_type": "markdown",
      "source": [
        "**Será que a bilheteria média quanto o tempo de duração aumentaram ao longo das décadas?**"
      ],
      "metadata": {
        "id": "0Zm7Ut-1aTic"
      }
    },
    {
      "cell_type": "code",
      "source": [
        "gross_per_decade = df.groupby('Decade')['Gross'].mean()\n",
        "runtime_per_decade = df.groupby('Decade')['Runtime'].mean()\n",
        "\n",
        "plt.figure(figsize=(12,8))\n",
        "sns.lineplot(gross_per_decade)\n",
        "plt.xticks(gross_per_decade.index)\n",
        "plt.grid()\n",
        "plt.show()"
      ],
      "metadata": {
        "colab": {
          "base_uri": "https://localhost:8080/",
          "height": 0
        },
        "id": "74EyovhuXKaO",
        "outputId": "88878c3b-e5d1-46c0-c013-0824a9b97f31"
      },
      "execution_count": 632,
      "outputs": [
        {
          "output_type": "display_data",
          "data": {
            "text/plain": [
              "<Figure size 1200x800 with 1 Axes>"
            ],
            "image/png": "[encoded data removed]"
          },
          "metadata": {}
        }
      ]
    },
    {
      "cell_type": "markdown",
      "source": [
        "É possível ver pelo gráfico que sim, desde 1920 até 2010 a bilheteria média aumentou consideravelmente, chegando a quase 1 bilhão em 9 décadas de acordo com os dados do dataset."
      ],
      "metadata": {
        "id": "gwqoEHMFeE6D"
      }
    },
    {
      "cell_type": "code",
      "source": [
        "plt.figure(figsize=(12,8))\n",
        "sns.lineplot(runtime_per_decade)\n",
        "plt.xticks(runtime_per_decade.index)\n",
        "plt.grid()\n",
        "plt.show()"
      ],
      "metadata": {
        "colab": {
          "base_uri": "https://localhost:8080/",
          "height": 0
        },
        "id": "Qo-n-Ybuc8cu",
        "outputId": "08a01646-4e05-496b-dfc0-94e20a969d69"
      },
      "execution_count": 633,
      "outputs": [
        {
          "output_type": "display_data",
          "data": {
            "text/plain": [
              "<Figure size 1200x800 with 1 Axes>"
            ],
            "image/png": "[encoded data removed]"
          },
          "metadata": {}
        }
      ]
    },
    {
      "cell_type": "markdown",
      "source": [
        "Também é possível observar que a duração aumentou até a década de 1960, e depois disso se manteve mais ou menos no mesmo patamar, entre 120 e 130 minutos, o equivalente a 2h de filme."
      ],
      "metadata": {
        "id": "1BvfyqzeaPCe"
      }
    },
    {
      "cell_type": "markdown",
      "source": [
        "Mas será que filmes com duração maior tendem a ser mais bem avaliados?"
      ],
      "metadata": {
        "id": "F6OLtqbygM67"
      }
    },
    {
      "cell_type": "code",
      "source": [
        "plt.figure(figsize=(12, 8))\n",
        "sns.scatterplot(data=df, x='Runtime', y='IMDB_Rating', alpha=0.4)\n",
        "plt.show()"
      ],
      "metadata": {
        "colab": {
          "base_uri": "https://localhost:8080/",
          "height": 0
        },
        "id": "MUfRNQDapVtL",
        "outputId": "19fb4de2-1a72-40b3-f2f6-252bbeaadb58"
      },
      "execution_count": 634,
      "outputs": [
        {
          "output_type": "display_data",
          "data": {
            "text/plain": [
              "<Figure size 1200x800 with 1 Axes>"
            ],
            "image/png": "[encoded data removed]"
          },
          "metadata": {}
        }
      ]
    },
    {
      "cell_type": "markdown",
      "source": [
        "Pelo gráfico, a maioria dos filmes está entre 100 e 150 minutos de duração, com notas entre 8.0 e 8.8, entretanto não se pode afirmar que tem alguma correlação."
      ],
      "metadata": {
        "id": "Q5mh9W9EpiOh"
      }
    },
    {
      "cell_type": "code",
      "source": [
        "correlation = df['Runtime'].corr(df['IMDB_Rating'])\n",
        "\n",
        "print(f\"O coeficiente de correlação entre Duração e Nota no IMDb é: {correlation:.4f}\")"
      ],
      "metadata": {
        "colab": {
          "base_uri": "https://localhost:8080/"
        },
        "id": "_EeneVtIlyV_",
        "outputId": "1c991ab6-a81a-4d17-b14a-ba7705a666a8"
      },
      "execution_count": 635,
      "outputs": [
        {
          "output_type": "stream",
          "name": "stdout",
          "text": [
            "O coeficiente de correlação entre Duração e Nota no IMDb é: 0.2428\n"
          ]
        }
      ]
    },
    {
      "cell_type": "markdown",
      "source": [
        "Pelo coeficiente, a correlação é fraca, existe uma tendência mas é muito fraca, sendo assim, a duração do filme não é muito forte pra tentar prever a nota dele."
      ],
      "metadata": {
        "id": "axL6WXajqKSK"
      }
    },
    {
      "cell_type": "markdown",
      "source": [
        "# Respostas às perguntas do desafio"
      ],
      "metadata": {
        "id": "oSC_K7H3vOww"
      }
    },
    {
      "cell_type": "markdown",
      "source": [
        "## Qual filme você recomendaria para uma pessoa que você não conhece?"
      ],
      "metadata": {
        "id": "Y6QyyymBLhEy"
      }
    },
    {
      "cell_type": "markdown",
      "source": [
        "Para recomendar um filme para alguém que não conheço, utilizaria as colunas de `IMDB_Rating`, `Meta_score` e `No_of_Votes` para fazer um top 5 de melhores avaliados.\n",
        "\n"
      ],
      "metadata": {
        "id": "Fn35L2EdMHOG"
      }
    },
    {
      "cell_type": "markdown",
      "source": [
        "Primeiro é necessário preencher os valores faltantes, vou fazer o input da mediana geral da coluna para preencher esses valores."
      ],
      "metadata": {
        "id": "hiaCfF2NQMCM"
      }
    },
    {
      "cell_type": "code",
      "source": [
        "df['Meta_score'] = df['Meta_score'].fillna(df['Meta_score'].median())"
      ],
      "metadata": {
        "id": "YDJzgHg4MFwC"
      },
      "execution_count": 636,
      "outputs": []
    },
    {
      "cell_type": "code",
      "source": [
        "imdb_threshold = 8.5\n",
        "metascore_threshold = 95\n",
        "\n",
        "filter_df_treshold = df[(df['IMDB_Rating'] > imdb_threshold) &\n",
        "                        (df['Meta_score'] > metascore_threshold)]\n",
        "\n",
        "\n",
        "recommendation = filter_df_treshold.sort_values(by='No_of_Votes', ascending=False)\n",
        "columns = ['Series_Title', 'Genre', 'IMDB_Rating', 'Meta_score', 'No_of_Votes']\n",
        "recommendation[columns].head(5)"
      ],
      "metadata": {
        "colab": {
          "base_uri": "https://localhost:8080/",
          "height": 0
        },
        "id": "S_JW3Ozxq3cF",
        "outputId": "ca419922-bf5f-44c9-9d30-ff94123ee1d0"
      },
      "execution_count": 637,
      "outputs": [
        {
          "output_type": "execute_result",
          "data": {
            "text/plain": [
              "                     Series_Title                         Genre  IMDB_Rating  \\\n",
              "0                   The Godfather                  Crime, Drama          9.2   \n",
              "3                    12 Angry Men                  Crime, Drama          9.0   \n",
              "22  Sen to Chihiro no kamikakushi  Animation, Adventure, Family          8.6   \n",
              "18                   Gisaengchung       Comedy, Drama, Thriller          8.6   \n",
              "30           Shichinin no samurai      Action, Adventure, Drama          8.6   \n",
              "\n",
              "    Meta_score  No_of_Votes  \n",
              "0        100.0      1620367  \n",
              "3         96.0       689845  \n",
              "22        96.0       651376  \n",
              "18        96.0       552778  \n",
              "30        98.0       315744  "
            ],
            "text/html": [
              "\n",
              "  <div id=\"df-9460e817-38dd-41d3-aca7-dcb388f13f48\" class=\"colab-df-container\">\n",
              "    <div>\n",
              "<style scoped>\n",
              "    .dataframe tbody tr th:only-of-type {\n",
              "        vertical-align: middle;\n",
              "    }\n",
              "\n",
              "    .dataframe tbody tr th {\n",
              "        vertical-align: top;\n",
              "    }\n",
              "\n",
              "    .dataframe thead th {\n",
              "        text-align: right;\n",
              "    }\n",
              "</style>\n",
              "<table border=\"1\" class=\"dataframe\">\n",
              "  <thead>\n",
              "    <tr style=\"text-align: right;\">\n",
              "      <th></th>\n",
              "      <th>Series_Title</th>\n",
              "      <th>Genre</th>\n",
              "      <th>IMDB_Rating</th>\n",
              "      <th>Meta_score</th>\n",
              "      <th>No_of_Votes</th>\n",
              "    </tr>\n",
              "  </thead>\n",
              "  <tbody>\n",
              "    <tr>\n",
              "      <th>0</th>\n",
              "      <td>The Godfather</td>\n",
              "      <td>Crime, Drama</td>\n",
              "      <td>9.2</td>\n",
              "      <td>100.0</td>\n",
              "      <td>1620367</td>\n",
              "    </tr>\n",
              "    <tr>\n",
              "      <th>3</th>\n",
              "      <td>12 Angry Men</td>\n",
              "      <td>Crime, Drama</td>\n",
              "      <td>9.0</td>\n",
              "      <td>96.0</td>\n",
              "      <td>689845</td>\n",
              "    </tr>\n",
              "    <tr>\n",
              "      <th>22</th>\n",
              "      <td>Sen to Chihiro no kamikakushi</td>\n",
              "      <td>Animation, Adventure, Family</td>\n",
              "      <td>8.6</td>\n",
              "      <td>96.0</td>\n",
              "      <td>651376</td>\n",
              "    </tr>\n",
              "    <tr>\n",
              "      <th>18</th>\n",
              "      <td>Gisaengchung</td>\n",
              "      <td>Comedy, Drama, Thriller</td>\n",
              "      <td>8.6</td>\n",
              "      <td>96.0</td>\n",
              "      <td>552778</td>\n",
              "    </tr>\n",
              "    <tr>\n",
              "      <th>30</th>\n",
              "      <td>Shichinin no samurai</td>\n",
              "      <td>Action, Adventure, Drama</td>\n",
              "      <td>8.6</td>\n",
              "      <td>98.0</td>\n",
              "      <td>315744</td>\n",
              "    </tr>\n",
              "  </tbody>\n",
              "</table>\n",
              "</div>\n",
              "    <div class=\"colab-df-buttons\">\n",
              "\n",
              "  <div class=\"colab-df-container\">\n",
              "    <button class=\"colab-df-convert\" onclick=\"convertToInteractive('df-9460e817-38dd-41d3-aca7-dcb388f13f48')\"\n",
              "            title=\"Convert this dataframe to an interactive table.\"\n",
              "            style=\"display:none;\">\n",
              "\n",
              "  <svg xmlns=\"http://www.w3.org/2000/svg\" height=\"24px\" viewBox=\"0 -960 960 960\">\n",
              "    <path d=\"M120-120v-720h720v720H120Zm60-500h600v-160H180v160Zm220 220h160v-160H400v160Zm0 220h160v-160H400v160ZM180-400h160v-160H180v160Zm440 0h160v-160H620v160ZM180-180h160v-160H180v160Zm440 0h160v-160H620v160Z\"/>\n",
              "  </svg>\n",
              "    </button>\n",
              "\n",
              "  <style>\n",
              "    .colab-df-container {\n",
              "      display:flex;\n",
              "      gap: 12px;\n",
              "    }\n",
              "\n",
              "    .colab-df-convert {\n",
              "      background-color: #E8F0FE;\n",
              "      border: none;\n",
              "      border-radius: 50%;\n",
              "      cursor: pointer;\n",
              "      display: none;\n",
              "      fill: #1967D2;\n",
              "      height: 32px;\n",
              "      padding: 0 0 0 0;\n",
              "      width: 32px;\n",
              "    }\n",
              "\n",
              "    .colab-df-convert:hover {\n",
              "      background-color: #E2EBFA;\n",
              "      box-shadow: 0px 1px 2px rgba(60, 64, 67, 0.3), 0px 1px 3px 1px rgba(60, 64, 67, 0.15);\n",
              "      fill: #174EA6;\n",
              "    }\n",
              "\n",
              "    .colab-df-buttons div {\n",
              "      margin-bottom: 4px;\n",
              "    }\n",
              "\n",
              "    [theme=dark] .colab-df-convert {\n",
              "      background-color: #3B4455;\n",
              "      fill: #D2E3FC;\n",
              "    }\n",
              "\n",
              "    [theme=dark] .colab-df-convert:hover {\n",
              "      background-color: #434B5C;\n",
              "      box-shadow: 0px 1px 3px 1px rgba(0, 0, 0, 0.15);\n",
              "      filter: drop-shadow(0px 1px 2px rgba(0, 0, 0, 0.3));\n",
              "      fill: #FFFFFF;\n",
              "    }\n",
              "  </style>\n",
              "\n",
              "    <script>\n",
              "      const buttonEl =\n",
              "        document.querySelector('#df-9460e817-38dd-41d3-aca7-dcb388f13f48 button.colab-df-convert');\n",
              "      buttonEl.style.display =\n",
              "        google.colab.kernel.accessAllowed ? 'block' : 'none';\n",
              "\n",
              "      async function convertToInteractive(key) {\n",
              "        const element = document.querySelector('#df-9460e817-38dd-41d3-aca7-dcb388f13f48');\n",
              "        const dataTable =\n",
              "          await google.colab.kernel.invokeFunction('convertToInteractive',\n",
              "                                                    [key], {});\n",
              "        if (!dataTable) return;\n",
              "\n",
              "        const docLinkHtml = 'Like what you see? Visit the ' +\n",
              "          '<a target=\"_blank\" href=https://colab.research.google.com/notebooks/data_table.ipynb>data table notebook</a>'\n",
              "          + ' to learn more about interactive tables.';\n",
              "        element.innerHTML = '';\n",
              "        dataTable['output_type'] = 'display_data';\n",
              "        await google.colab.output.renderOutput(dataTable, element);\n",
              "        const docLink = document.createElement('div');\n",
              "        docLink.innerHTML = docLinkHtml;\n",
              "        element.appendChild(docLink);\n",
              "      }\n",
              "    </script>\n",
              "  </div>\n",
              "\n",
              "\n",
              "    <div id=\"df-795ba4d6-92d2-42fb-83ab-137a4c62d7b3\">\n",
              "      <button class=\"colab-df-quickchart\" onclick=\"quickchart('df-795ba4d6-92d2-42fb-83ab-137a4c62d7b3')\"\n",
              "                title=\"Suggest charts\"\n",
              "                style=\"display:none;\">\n",
              "\n",
              "<svg xmlns=\"http://www.w3.org/2000/svg\" height=\"24px\"viewBox=\"0 0 24 24\"\n",
              "     width=\"24px\">\n",
              "    <g>\n",
              "        <path d=\"M19 3H5c-1.1 0-2 .9-2 2v14c0 1.1.9 2 2 2h14c1.1 0 2-.9 2-2V5c0-1.1-.9-2-2-2zM9 17H7v-7h2v7zm4 0h-2V7h2v10zm4 0h-2v-4h2v4z\"/>\n",
              "    </g>\n",
              "</svg>\n",
              "      </button>\n",
              "\n",
              "<style>\n",
              "  .colab-df-quickchart {\n",
              "      --bg-color: #E8F0FE;\n",
              "      --fill-color: #1967D2;\n",
              "      --hover-bg-color: #E2EBFA;\n",
              "      --hover-fill-color: #174EA6;\n",
              "      --disabled-fill-color: #AAA;\n",
              "      --disabled-bg-color: #DDD;\n",
              "  }\n",
              "\n",
              "  [theme=dark] .colab-df-quickchart {\n",
              "      --bg-color: #3B4455;\n",
              "      --fill-color: #D2E3FC;\n",
              "      --hover-bg-color: #434B5C;\n",
              "      --hover-fill-color: #FFFFFF;\n",
              "      --disabled-bg-color: #3B4455;\n",
              "      --disabled-fill-color: #666;\n",
              "  }\n",
              "\n",
              "  .colab-df-quickchart {\n",
              "    background-color: var(--bg-color);\n",
              "    border: none;\n",
              "    border-radius: 50%;\n",
              "    cursor: pointer;\n",
              "    display: none;\n",
              "    fill: var(--fill-color);\n",
              "    height: 32px;\n",
              "    padding: 0;\n",
              "    width: 32px;\n",
              "  }\n",
              "\n",
              "  .colab-df-quickchart:hover {\n",
              "    background-color: var(--hover-bg-color);\n",
              "    box-shadow: 0 1px 2px rgba(60, 64, 67, 0.3), 0 1px 3px 1px rgba(60, 64, 67, 0.15);\n",
              "    fill: var(--button-hover-fill-color);\n",
              "  }\n",
              "\n",
              "  .colab-df-quickchart-complete:disabled,\n",
              "  .colab-df-quickchart-complete:disabled:hover {\n",
              "    background-color: var(--disabled-bg-color);\n",
              "    fill: var(--disabled-fill-color);\n",
              "    box-shadow: none;\n",
              "  }\n",
              "\n",
              "  .colab-df-spinner {\n",
              "    border: 2px solid var(--fill-color);\n",
              "    border-color: transparent;\n",
              "    border-bottom-color: var(--fill-color);\n",
              "    animation:\n",
              "      spin 1s steps(1) infinite;\n",
              "  }\n",
              "\n",
              "  @keyframes spin {\n",
              "    0% {\n",
              "      border-color: transparent;\n",
              "      border-bottom-color: var(--fill-color);\n",
              "      border-left-color: var(--fill-color);\n",
              "    }\n",
              "    20% {\n",
              "      border-color: transparent;\n",
              "      border-left-color: var(--fill-color);\n",
              "      border-top-color: var(--fill-color);\n",
              "    }\n",
              "    30% {\n",
              "      border-color: transparent;\n",
              "      border-left-color: var(--fill-color);\n",
              "      border-top-color: var(--fill-color);\n",
              "      border-right-color: var(--fill-color);\n",
              "    }\n",
              "    40% {\n",
              "      border-color: transparent;\n",
              "      border-right-color: var(--fill-color);\n",
              "      border-top-color: var(--fill-color);\n",
              "    }\n",
              "    60% {\n",
              "      border-color: transparent;\n",
              "      border-right-color: var(--fill-color);\n",
              "    }\n",
              "    80% {\n",
              "      border-color: transparent;\n",
              "      border-right-color: var(--fill-color);\n",
              "      border-bottom-color: var(--fill-color);\n",
              "    }\n",
              "    90% {\n",
              "      border-color: transparent;\n",
              "      border-bottom-color: var(--fill-color);\n",
              "    }\n",
              "  }\n",
              "</style>\n",
              "\n",
              "      <script>\n",
              "        async function quickchart(key) {\n",
              "          const quickchartButtonEl =\n",
              "            document.querySelector('#' + key + ' button');\n",
              "          quickchartButtonEl.disabled = true;  // To prevent multiple clicks.\n",
              "          quickchartButtonEl.classList.add('colab-df-spinner');\n",
              "          try {\n",
              "            const charts = await google.colab.kernel.invokeFunction(\n",
              "                'suggestCharts', [key], {});\n",
              "          } catch (error) {\n",
              "            console.error('Error during call to suggestCharts:', error);\n",
              "          }\n",
              "          quickchartButtonEl.classList.remove('colab-df-spinner');\n",
              "          quickchartButtonEl.classList.add('colab-df-quickchart-complete');\n",
              "        }\n",
              "        (() => {\n",
              "          let quickchartButtonEl =\n",
              "            document.querySelector('#df-795ba4d6-92d2-42fb-83ab-137a4c62d7b3 button');\n",
              "          quickchartButtonEl.style.display =\n",
              "            google.colab.kernel.accessAllowed ? 'block' : 'none';\n",
              "        })();\n",
              "      </script>\n",
              "    </div>\n",
              "\n",
              "    </div>\n",
              "  </div>\n"
            ],
            "application/vnd.google.colaboratory.intrinsic+json": {
              "type": "dataframe",
              "summary": "{\n  \"name\": \"recommendation[columns]\",\n  \"rows\": 5,\n  \"fields\": [\n    {\n      \"column\": \"Series_Title\",\n      \"properties\": {\n        \"dtype\": \"string\",\n        \"num_unique_values\": 5,\n        \"samples\": [\n          \"12 Angry Men\",\n          \"Shichinin no samurai\",\n          \"Sen to Chihiro no kamikakushi\"\n        ],\n        \"semantic_type\": \"\",\n        \"description\": \"\"\n      }\n    },\n    {\n      \"column\": \"Genre\",\n      \"properties\": {\n        \"dtype\": \"string\",\n        \"num_unique_values\": 4,\n        \"samples\": [\n          \"Animation, Adventure, Family\",\n          \"Action, Adventure, Drama\",\n          \"Crime, Drama\"\n        ],\n        \"semantic_type\": \"\",\n        \"description\": \"\"\n      }\n    },\n    {\n      \"column\": \"IMDB_Rating\",\n      \"properties\": {\n        \"dtype\": \"number\",\n        \"std\": 0.28284271247461895,\n        \"min\": 8.6,\n        \"max\": 9.2,\n        \"num_unique_values\": 3,\n        \"samples\": [\n          9.2,\n          9.0,\n          8.6\n        ],\n        \"semantic_type\": \"\",\n        \"description\": \"\"\n      }\n    },\n    {\n      \"column\": \"Meta_score\",\n      \"properties\": {\n        \"dtype\": \"number\",\n        \"std\": 1.7888543819998317,\n        \"min\": 96.0,\n        \"max\": 100.0,\n        \"num_unique_values\": 3,\n        \"samples\": [\n          100.0,\n          96.0,\n          98.0\n        ],\n        \"semantic_type\": \"\",\n        \"description\": \"\"\n      }\n    },\n    {\n      \"column\": \"No_of_Votes\",\n      \"properties\": {\n        \"dtype\": \"number\",\n        \"std\": 499268,\n        \"min\": 315744,\n        \"max\": 1620367,\n        \"num_unique_values\": 5,\n        \"samples\": [\n          689845,\n          315744,\n          651376\n        ],\n        \"semantic_type\": \"\",\n        \"description\": \"\"\n      }\n    }\n  ]\n}"
            }
          },
          "metadata": {},
          "execution_count": 637
        }
      ]
    },
    {
      "cell_type": "markdown",
      "source": [
        "Utilizando limiares tanto para a nota IMDB quanto para o valor de críticas, foi criado um top 5 de filmes que atendem esses requisitos, e assim podem ser recomendados com tranquilidade para alguém que não conheço, já que são filmes bem aclamados pelo público."
      ],
      "metadata": {
        "id": "0RGpwW8bt0Td"
      }
    },
    {
      "cell_type": "markdown",
      "source": [
        "## Quais são os principais fatores que estão relacionados com alta expectativa de faturamento de um filme?\n"
      ],
      "metadata": {
        "id": "srEOK2LuLjjR"
      }
    },
    {
      "cell_type": "markdown",
      "source": [
        "- O número de votos é um forte fator que influencia no faturamento, como foi possível observar com o coeficiente de correlação entre a coluna de `No_of_Votes` e `Gross`, isso porque significa que a pessoa assistiu o filme e foi avaliar. Isso mostra tanto o alcance do público quanto a satisfação com o filme.\n",
        "- A influencia de um diretor famoso ou conhecido também é grande, visto que o dataset com os **top 15 diretores** tiveram um faturamento maior do que o restante, mesmo sendo pouco mais de 13% de todo o dataset.\n",
        "- A influencia do tempo também ajudou com o crescimento do faturamento ao longo dos anos, isso pode ser pelo fato de **novas tecnologias** sempre melhorando o cinema e entretenimento audiovisual, como também o aumento do preço dos bilhetes acompanhando a **inflação**."
      ],
      "metadata": {
        "id": "EgIxjklGv6Jy"
      }
    },
    {
      "cell_type": "markdown",
      "source": [
        "## Quais insights podem ser tirados com a coluna Overview? É possível inferir o gênero do filme a partir dessa coluna?\n"
      ],
      "metadata": {
        "id": "XpzvkVwJLj_L"
      }
    },
    {
      "cell_type": "markdown",
      "source": [
        "Existem palavras-chave que podem ser úteis para fazer uma inferência de gênero, utilizando modelos NLP de classificação para tentar processar essas palavras."
      ],
      "metadata": {
        "id": "zxwUnUP073Zk"
      }
    },
    {
      "cell_type": "code",
      "source": [
        "complete_overview = df.loc[0, 'Overview']   # Pegando o overview da primeira linha do dataset\n",
        "print(complete_overview)"
      ],
      "metadata": {
        "colab": {
          "base_uri": "https://localhost:8080/"
        },
        "id": "3H5mER0X8WEp",
        "outputId": "6ccee738-c51e-4d69-876e-7e773e8151f9"
      },
      "execution_count": 638,
      "outputs": [
        {
          "output_type": "stream",
          "name": "stdout",
          "text": [
            "An organized crime dynasty's aging patriarch transfers control of his clandestine empire to his reluctant son.\n"
          ]
        }
      ]
    },
    {
      "cell_type": "markdown",
      "source": [
        "É possível ver que existem palavras como \"organized\", \"crime\", \"control\", \"clandestine\", \"reluctant\" e \"son\". Com essas palavras dá pra se ter uma ideia de que o filme pode ser de Drama, Crime e talvez alguns elementos de Thriller."
      ],
      "metadata": {
        "id": "5EF_YNTy9TGl"
      }
    },
    {
      "cell_type": "code",
      "source": [
        "genre_overview = df.loc[0, 'Genre']\n",
        "print(genre_overview)"
      ],
      "metadata": {
        "colab": {
          "base_uri": "https://localhost:8080/"
        },
        "id": "w4T84uTP9evO",
        "outputId": "56447aa3-1cec-44e2-8f42-9ab94d35308f"
      },
      "execution_count": 639,
      "outputs": [
        {
          "output_type": "stream",
          "name": "stdout",
          "text": [
            "Crime, Drama\n"
          ]
        }
      ]
    },
    {
      "cell_type": "markdown",
      "source": [
        "Como se pode ver, o filme é de Crime e Drama. É possível treinar modelos de classificação para fazer essa mesma inferência, então sim, é possível inferir um gênero de filme com base no Overview dele."
      ],
      "metadata": {
        "id": "W3sw-g70-jKm"
      }
    },
    {
      "cell_type": "markdown",
      "source": [
        "Além disso, também é possível fazer análise de sentimentos e com isso associar à outras colunas pra ver se existe alguma correlação entre o \"tom\" do resumo com o sucesso do filme, já que o Overview funciona como uma sinopse, que é como se fosse um trailler textual pra quem não sabe nada sobre o filme."
      ],
      "metadata": {
        "id": "2pDhNbmhRxlI"
      }
    },
    {
      "cell_type": "markdown",
      "source": [
        "# Previsão do IMDB"
      ],
      "metadata": {
        "id": "SPZA7jjZvXgg"
      }
    },
    {
      "cell_type": "markdown",
      "source": [
        "De acordo com o [site](https://www.imdb.com/pt/title/tt0111161/) do IMDB, o filme The Shawshank Redemption tem nota 9.3/10, e é o filme com maior nota nessa plataforma. O objetivo é prever a nota utilizando os dados do dataset e ver se a previsão se aproxima dessa nota. E como vamos prever um valor contínuo, isso se torna um problema de **Regressão**."
      ],
      "metadata": {
        "id": "ojtr_EYPyLKb"
      }
    },
    {
      "cell_type": "code",
      "source": [
        "# Dados do Shawshank Redemption\n",
        "shawshank_data = {\n",
        "    'Meta_score': 80.0,\n",
        "    'No_of_Votes': 2343110,\n",
        "    'Primary_Genre': 'Drama'\n",
        "}"
      ],
      "metadata": {
        "id": "wSC7CsIC9yIz"
      },
      "execution_count": 640,
      "outputs": []
    },
    {
      "cell_type": "markdown",
      "source": [
        "Esses são os dados que considerei relevantes para treinar o modelo, já que se pode associá-los levando em conta toda a análise que foi feita anteriormente, os dados foram tirados do documento [docs](https://docs.google.com/document/d/1uqSPghyJWCA52ryilZrF63Ep5OzB1Yl2pBnUyaFHpS8/edit?tab=t.0) que foi enviado por e-mail. Mas basicamente:\n",
        "\n",
        "- Meta_score: Tem uma grande influência no treinamento do modelo, já que essa coluna representa a opinião dos críticos, pois é a média ponderada de todas as críticas.\n",
        "- No_of_Votes: Essa medida mostra o alcance e popularidade, já que é a quantidade de votos para uma determinada nota (uma nota 9.5 com 10 votos tem menos peso do que uma nota 8.3 com 50.000 votos).\n",
        "- Genre: Um filme pode ter uma nota diferente no IMDB simplesmente por pertencer à um gênero, já que pode agregar um público maior do que outros gêneros, e consequentemente ser propenso a ter mais críticas, sejam elas positivas ou negativas, aumentando ou diminuindo a nota."
      ],
      "metadata": {
        "id": "MI0GnNVq9zH6"
      }
    },
    {
      "cell_type": "code",
      "source": [
        "from sklearn.model_selection import train_test_split\n",
        "from xgboost import XGBRegressor\n",
        "from sklearn.compose import ColumnTransformer\n",
        "from sklearn.pipeline import Pipeline\n",
        "from sklearn.preprocessing import OneHotEncoder"
      ],
      "metadata": {
        "id": "DiA2YXEcU0C6"
      },
      "execution_count": 641,
      "outputs": []
    },
    {
      "cell_type": "code",
      "source": [
        "# criando um novo dataframe com as colunas relevantes para treinar o modelo\n",
        "df_model = df[['IMDB_Rating', 'Meta_score', 'No_of_Votes', 'Genre']].copy()\n",
        "\n",
        "# aqui, como a coluna de genero possui mais de 1 gênero por linha geralmente, eu estou pegando\n",
        "# apenas o primeiro, e considerando ele como o mais relevante\n",
        "df_model['Primary_Genre'] = df_model['Genre'].str.split(',').str[0].str.strip()\n",
        "\n",
        "# separando, a variavel dependente que é o y (o que queremos prever)\n",
        "# e as variaveis independentes, que são os X (que são usadas para prever)\n",
        "X = df_model[['Meta_score', 'No_of_Votes', 'Primary_Genre']]\n",
        "y = df_model['IMDB_Rating']\n",
        "\n",
        "# aqui se faz o train test split, que é separar o dataset em um conjunto de treino\n",
        "# e conjunto de teste (basicamente ele aprende e vê se as respostas estão certas)\n",
        "X_train, X_test, y_train, y_test = train_test_split(X, y, test_size=0.2, random_state=42)\n",
        "\n",
        "numerical_features = ['Meta_score', 'No_of_Votes']\n",
        "categorical_features = ['Primary_Genre']\n",
        "\n",
        "# usando o Column Transformer pra etapa de pre processamento antes do treino\n",
        "preprocessor = ColumnTransformer(\n",
        "        transformers=[\n",
        "            ('num', 'passthrough', numerical_features), # se for coluna numérica, fica do mesmo jeito\n",
        "            ('cat', OneHotEncoder(handle_unknown='ignore'), categorical_features) # se for categória, aplica OneHotEncoder\n",
        "        ])\n",
        "\n",
        "# usando o Pipeline pra fazer uma sequencia de passos\n",
        "model_pipeline = Pipeline(steps=[\n",
        "        ('preprocessor', preprocessor),\n",
        "        ('regressor', XGBRegressor(random_state=42))\n",
        "    ])\n",
        "\n",
        "# treinando o modelo\n",
        "model_pipeline.fit(X_train, y_train)\n",
        "\n",
        "test_movie_df = pd.DataFrame([shawshank_data])\n",
        "\n",
        "# fazendo a inferencia pelos dados do filme que queremos saber a nota\n",
        "predicted_rating = model_pipeline.predict(test_movie_df)\n",
        "\n",
        "print(f\"A nota real do filme Shawshank pelo IMDB é: 9.3\")\n",
        "print(f\"A nota prevista pelo modelo foi: {predicted_rating[0]:.2f}\")"
      ],
      "metadata": {
        "colab": {
          "base_uri": "https://localhost:8080/"
        },
        "id": "vl-Kr003apJ3",
        "outputId": "8c954e27-beb1-47bd-8c5b-5a1dec62a068"
      },
      "execution_count": 642,
      "outputs": [
        {
          "output_type": "stream",
          "name": "stdout",
          "text": [
            "A nota real do filme Shawshank pelo IMDB é: 9.3\n",
            "A nota prevista pelo modelo foi: 8.69\n"
          ]
        }
      ]
    },
    {
      "cell_type": "markdown",
      "source": [
        "Agora, após a previsão da nota é necessário calcular as métricas de desempenho para verificar se o modelo foi bem estruturado."
      ],
      "metadata": {
        "id": "JbAjEmuaVu09"
      }
    },
    {
      "cell_type": "code",
      "source": [
        "from sklearn.metrics import mean_squared_error, mean_absolute_error, r2_score\n",
        "import numpy as np\n",
        "\n",
        "# previsões no conjunto de teste\n",
        "y_pred = model_pipeline.predict(X_test)\n",
        "\n",
        "# métricas\n",
        "r2 = r2_score(y_test, y_pred)\n",
        "rmse = np.sqrt(mean_squared_error(y_test, y_pred))\n",
        "mae = mean_absolute_error(y_test, y_pred)\n",
        "\n",
        "print(f\"Mean Absolute Error (MAE): {mae:.3f}\")\n",
        "print(f\"Root Mean Squared Error (RMSE): {rmse:.3f}\")\n",
        "print(f\"R-squared (R²): {r2:.3f}\")"
      ],
      "metadata": {
        "colab": {
          "base_uri": "https://localhost:8080/"
        },
        "id": "wYQsByknO4dh",
        "outputId": "f0bda8da-2491-4fc6-f2fb-b367cecda720"
      },
      "execution_count": 643,
      "outputs": [
        {
          "output_type": "stream",
          "name": "stdout",
          "text": [
            "Mean Absolute Error (MAE): 0.191\n",
            "Root Mean Squared Error (RMSE): 0.250\n",
            "R-squared (R²): 0.049\n"
          ]
        }
      ]
    },
    {
      "cell_type": "markdown",
      "source": [
        "Aqui foram utilizadas 3 métricas, o MAE, RMSE e R²:\n",
        "\n",
        "- MAE (Erro médio absoluto): Isso significa que em média, o modelo erra apenas 0.191 na nota, entre 1 a 10 do IMDB. E 0.191 é um valor relativamente baixo nessa escala, então é um resultado muito bom.\n",
        "\n",
        "- RMSE (Raiz do erro médio quadrático): Aqui o valor de 0.25 também é bem baixo, já que essa métrica serve para dar mais peso aos erros maiores, significa que não ocorreram muitos erros grandes.\n",
        "\n",
        "- R² (R-quadrado): O valor de 0.049 significa que ele só explica aproximadamente 5% das notas reais, quanto mais próximo de 1, melhor seria o valor dessa métrica. Isso pode ser explicado pelo fato que existe uma maior concentração de notas entre 7.6 a 8.3 aproximadamente, ou seja, as notas da coluna `IMDB_rating` não estão muito bem distribuídas, o que acaba afetando no cálculo dessa métrica."
      ],
      "metadata": {
        "id": "4399KSdGV9ZW"
      }
    },
    {
      "cell_type": "code",
      "source": [
        "# salvando o modelo para .pkl\n",
        "import joblib\n",
        "\n",
        "joblib.dump(model_pipeline, \"modelo_imdb.pkl\")"
      ],
      "metadata": {
        "colab": {
          "base_uri": "https://localhost:8080/"
        },
        "id": "_D-zjDgicz7E",
        "outputId": "904dc8cf-9e5e-4ea0-9840-a6b7caa15df4"
      },
      "execution_count": 644,
      "outputs": [
        {
          "output_type": "execute_result",
          "data": {
            "text/plain": [
              "['modelo_imdb.pkl']"
            ]
          },
          "metadata": {},
          "execution_count": 644
        }
      ]
    },
    {
      "cell_type": "markdown",
      "source": [
        "## Conclusão"
      ],
      "metadata": {
        "id": "bgKPQgxxYfls"
      }
    },
    {
      "cell_type": "markdown",
      "source": [
        "No geral, o modelo foi bom em prever a nota com um erro médio bem pequeno, entretanto, considerando apenas as colunas utilizadas para o treinamento, assim como a amostra não ter tanta variabilidade nas notas, não foi possível obter uma melhor performance para o R².\n",
        "\n",
        "Além de que, o filme The Shawshank Redemption pode ser considerado um outlier já que ele é o filme com a maior nota na plataforma. Então isso pode influenciar também na previsão, já que não é o comportamento típico do restante do dataset."
      ],
      "metadata": {
        "id": "e15-j8vBZhKu"
      }
    },
    {
      "cell_type": "markdown",
      "source": [
        "# Requirements"
      ],
      "metadata": {
        "id": "KjVoYbw0V6rd"
      }
    },
    {
      "cell_type": "code",
      "source": [
        "!pip freeze > requirements.txt"
      ],
      "metadata": {
        "id": "E-SUNBMmV8tt"
      },
      "execution_count": 645,
      "outputs": []
    }
  ]
}